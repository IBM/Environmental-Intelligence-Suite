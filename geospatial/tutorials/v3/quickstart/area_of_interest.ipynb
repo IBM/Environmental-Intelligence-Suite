{
 "cells": [
  {
   "cell_type": "markdown",
   "metadata": {},
   "source": [
    "# Area of interest (AOI)\n",
    "\n",
    "In this section, we will find and request a pre-defined area of interest (AOI) and use it to initiate a Environmental Intelligence Suite(EIS): Geospatial APIs raster query.\n",
    "\n",
    "In order to run this notebook, `ibmpairs`, `geopandas`, `geoplot`, `numpy` and `matplotlib` must be installed to your python environment using your package manager of choice, e.g. with pip:\n",
    "\n",
    "```\n",
    "pip install ibmpairs geopandas geoplot numpy matplotlib\n",
    "```\n",
    "\n",
    "## Search for an AOI\n",
    "\n",
    "An AOI, in Geospatial APIs, is a pre-defined labelled spatial definition that can be specified as the spatial extent (area) of a raster query; usually a jurisdiction (e.g. country, state etc).\n",
    "\n",
    "To use an AOI in a raster query, we must find an area that we wish to query; to do so, we can use the SDK method `query.search_aois`:"
   ]
  },
  {
   "cell_type": "code",
   "execution_count": null,
   "metadata": {},
   "outputs": [],
   "source": [
    "%pip install configparser\n",
    "%pip install ibmpairs\n",
    "%pip install matplotlib\n",
    "%pip install geoplot\n",
    "%pip install geopandas"
   ]
  },
  {
   "cell_type": "code",
   "execution_count": 1,
   "metadata": {},
   "outputs": [
    {
     "name": "stdout",
     "output_type": "stream",
     "text": [
      "2024-07-31 17:12:53 - paw - INFO - The client authentication method is assumed to be OAuth2.\n",
      "2024-07-31 17:12:53 - paw - INFO - Legacy Environment is False\n",
      "2024-07-31 17:12:53 - paw - INFO - The authentication api key type is assumed to be IBM Cloud IAM, because the api key prefix 'PHX' is not present.\n",
      "2024-07-31 17:12:56 - paw - INFO - Authentication success.\n",
      "2024-07-31 17:12:56 - paw - INFO - HOST: https://api.ibm.com/geospatial/run/na/core/v3\n"
     ]
    },
    {
     "data": {
      "text/html": [
       "<div>\n",
       "<style scoped>\n",
       "    .dataframe tbody tr th:only-of-type {\n",
       "        vertical-align: middle;\n",
       "    }\n",
       "\n",
       "    .dataframe tbody tr th {\n",
       "        vertical-align: top;\n",
       "    }\n",
       "\n",
       "    .dataframe thead th {\n",
       "        text-align: right;\n",
       "    }\n",
       "</style>\n",
       "<table border=\"1\" class=\"dataframe\">\n",
       "  <thead>\n",
       "    <tr style=\"text-align: right;\">\n",
       "      <th></th>\n",
       "      <th>id</th>\n",
       "      <th>key</th>\n",
       "      <th>name</th>\n",
       "    </tr>\n",
       "  </thead>\n",
       "  <tbody>\n",
       "    <tr>\n",
       "      <th>0</th>\n",
       "      <td>51575</td>\n",
       "      <td>missouri.texas</td>\n",
       "      <td>Missouri.Texas</td>\n",
       "    </tr>\n",
       "    <tr>\n",
       "      <th>1</th>\n",
       "      <td>52132</td>\n",
       "      <td>oklahoma.texas</td>\n",
       "      <td>Oklahoma.Texas</td>\n",
       "    </tr>\n",
       "    <tr>\n",
       "      <th>2</th>\n",
       "      <td>52653</td>\n",
       "      <td>texas.anderson</td>\n",
       "      <td>Texas.Anderson</td>\n",
       "    </tr>\n",
       "    <tr>\n",
       "      <th>3</th>\n",
       "      <td>52558</td>\n",
       "      <td>texas.andrews</td>\n",
       "      <td>Texas.Andrews</td>\n",
       "    </tr>\n",
       "    <tr>\n",
       "      <th>4</th>\n",
       "      <td>52661</td>\n",
       "      <td>texas.angelina</td>\n",
       "      <td>Texas.Angelina</td>\n",
       "    </tr>\n",
       "    <tr>\n",
       "      <th>...</th>\n",
       "      <td>...</td>\n",
       "      <td>...</td>\n",
       "      <td>...</td>\n",
       "    </tr>\n",
       "    <tr>\n",
       "      <th>509</th>\n",
       "      <td>52553</td>\n",
       "      <td>texas.yoakum</td>\n",
       "      <td>Texas.Yoakum</td>\n",
       "    </tr>\n",
       "    <tr>\n",
       "      <th>510</th>\n",
       "      <td>52595</td>\n",
       "      <td>texas.young</td>\n",
       "      <td>Texas.Young</td>\n",
       "    </tr>\n",
       "    <tr>\n",
       "      <th>511</th>\n",
       "      <td>52769</td>\n",
       "      <td>texas.zapata</td>\n",
       "      <td>Texas.Zapata</td>\n",
       "    </tr>\n",
       "    <tr>\n",
       "      <th>512</th>\n",
       "      <td>52758</td>\n",
       "      <td>texas.zavala</td>\n",
       "      <td>Texas.Zavala</td>\n",
       "    </tr>\n",
       "    <tr>\n",
       "      <th>513</th>\n",
       "      <td>164</td>\n",
       "      <td>usa-texas</td>\n",
       "      <td>USA - Texas</td>\n",
       "    </tr>\n",
       "  </tbody>\n",
       "</table>\n",
       "<p>514 rows × 3 columns</p>\n",
       "</div>"
      ],
      "text/plain": [
       "        id             key            name\n",
       "0    51575  missouri.texas  Missouri.Texas\n",
       "1    52132  oklahoma.texas  Oklahoma.Texas\n",
       "2    52653  texas.anderson  Texas.Anderson\n",
       "3    52558   texas.andrews   Texas.Andrews\n",
       "4    52661  texas.angelina  Texas.Angelina\n",
       "..     ...             ...             ...\n",
       "509  52553    texas.yoakum    Texas.Yoakum\n",
       "510  52595     texas.young     Texas.Young\n",
       "511  52769    texas.zapata    Texas.Zapata\n",
       "512  52758    texas.zavala    Texas.Zavala\n",
       "513    164       usa-texas     USA - Texas\n",
       "\n",
       "[514 rows x 3 columns]"
      ]
     },
     "execution_count": 1,
     "metadata": {},
     "output_type": "execute_result"
    }
   ],
   "source": [
    "import os\n",
    "import json\n",
    "import ibmpairs.query as query\n",
    "import ibmpairs.client as client\n",
    "\n",
    "import geopandas\n",
    "import geoplot\n",
    "import PIL.Image\n",
    "import numpy as np\n",
    "import matplotlib.pyplot as plt\n",
    "\n",
    "import configparser\n",
    "\n",
    "config = configparser.RawConfigParser()\n",
    "config.read('../../../auth/secrets.ini')\n",
    "# Best practice is not to include secrets in source code so we read\n",
    "# an api key, tenant id and org id from a secrets.ini file.\n",
    "# You could set the credentials in-line here but we don't\n",
    "# recommend it for security reasons.\n",
    "\n",
    "EI_API_KEY    = config.get('EI', 'api.api_key')\n",
    "EI_TENANT_ID  = config.get('EI', 'api.tenant_id') \n",
    "EI_ORG_ID     = config.get('EI', 'api.org_id') \n",
    "\n",
    "# Authenticate and get a client object.\n",
    "ei_client = client.get_client(api_key   = EI_API_KEY,\n",
    "                              tenant_id = EI_TENANT_ID,\n",
    "                              org_id    = EI_ORG_ID)\n",
    "\n",
    "# Search for AOIs that contain the word 'texas'\n",
    "aois_list = query.search_aois('texas')\n",
    "aois_list"
   ]
  },
  {
   "cell_type": "markdown",
   "metadata": {},
   "source": [
    "The search includes the results that contain the word `texas`; the `usa-texas` key represents the AOI of the state of Texas (USA), the `texas.*` entries represent the counties of the state of Texas.\n",
    "\n",
    "To get the metadata information about the `usa-texas` area of interest (id: 164) it can be requested with `query.get_aoi`."
   ]
  },
  {
   "cell_type": "code",
   "execution_count": 2,
   "metadata": {},
   "outputs": [
    {
     "name": "stdout",
     "output_type": "stream",
     "text": [
      "2024-07-31 17:12:58 - paw - INFO - {'created_at': 1688045740309, 'updated_at': 1707501884480, 'id': 164, 'key': 'usa-texas', 'name': 'USA - Texas', 'geojson': '{\"type\":\"Polygon\",\"coordinates\":[[[-106.683192366,31.942887307],[-106.623555771,32.051088309],[-103.106759183,32.052422446],[-103.069255984,36.518767545],[-100.001664892,36.543596825],[-99.947481351,34.629539979],[-99.666860972,34.42584217],[-99.443502852,34.421964197],[-99.35225105,34.498731218],[-99.168595192,34.365424006],[-99.151419194,34.258301545],[-98.617954477,34.207820825],[-98.45306249,34.106891538],[-98.364816544,34.190188117],[-98.09945857,34.196541332],[-98.046652334,34.041269506],[-97.952756011,34.041201779],[-97.864138897,33.907847955],[-97.676628909,34.038434165],[-97.405805152,33.873028749],[-97.212875245,33.955774758],[-97.038044097,33.898091427],[-96.926673431,34.011772333],[-96.735380541,33.884608678],[-96.680475368,33.961655112],[-96.564887797,33.942126555],[-96.337457867,33.777559085],[-95.955516065,33.938561937],[-95.839855327,33.89476448],[-95.606920256,33.994652663],[-95.381475661,33.918893627],[-95.231846792,34.014910591],[-94.698494179,33.743140481],[-94.004066235,33.594411362],[-93.985199649,32.032647195],[-93.791098661,31.826988238],[-93.767547467,31.588362385],[-93.662551777,31.545530928],[-93.457684889,31.033670436],[-93.700113749,30.381833203],[-93.665049423,30.045410481],[-93.890130492,29.821797319],[-93.799781583,29.639425381],[-94.056090317,29.624317626],[-94.657152118,29.389436631],[-94.718038976,29.280154556],[-95.159355468,29.06646069],[-95.213790288,28.942762424],[-95.50016826,28.761183681],[-96.186041713,28.443188984],[-96.289079434,28.601154175],[-96.432821374,28.529113479],[-96.34373839,28.450730681],[-96.359955447,28.313841319],[-97.006743803,27.814142144],[-97.337113518,27.096559989],[-97.124072365,25.942387258],[-97.439608822,25.795808134],[-97.679904807,25.978401576],[-98.21225533,26.007020435],[-98.836320548,26.322054341],[-99.140934462,26.383114572],[-99.327120372,26.827148364],[-99.50162411,27.00994253],[-99.592395872,27.573469602],[-99.909497886,27.761719649],[-99.981046649,27.94715027],[-100.336999739,28.249004006],[-100.838189521,29.20917135],[-101.100663006,29.430928588],[-101.292388839,29.487132103],[-101.454690557,29.711166129],[-102.071783739,29.735317214],[-102.315415773,29.823623154],[-102.367950031,29.721216833],[-102.654036124,29.685139842],[-102.839343066,29.326617625],[-102.827541717,29.198036795],[-103.128945492,28.935570357],[-103.298967082,28.939999442],[-104.072183054,29.285652478],[-104.567370224,29.640927351],[-104.936146093,30.541708409],[-105.420535727,30.813004765],[-106.026575894,31.351101793],[-106.244681586,31.439332696],[-106.415717092,31.691927148],[-106.653129721,31.785506674],[-106.683192366,31.942887307]],[[-97.239626055,26.128786906],[-97.407263982,26.696945754],[-97.446677021,26.958965578],[-97.515484394,26.938223626],[-97.410651734,26.466128023],[-97.239626055,26.128786906]],[[-97.450153219,27.076390578],[-97.450269297,27.080311662],[-97.450868042,27.078870744],[-97.450153219,27.076390578]],[[-97.291085769,27.754783882],[-97.21678344,27.726390349],[-97.187452766,27.763276336],[-97.343308575,27.793643851],[-97.291085769,27.754783882]]]}'}\n"
     ]
    },
    {
     "data": {
      "text/plain": [
       "{\n",
       "    \"bbox\": [\n",
       "        25.795808134,\n",
       "        -106.683192366,\n",
       "        36.543596825,\n",
       "        -93.457684889\n",
       "    ],\n",
       "    \"geojson\": \"{\\\"type\\\":\\\"Polygon\\\",\\\"coordinates\\\":[[[-106.683192366,31.942887307],[-106.623555771,32.051088309],[-103.106759183,32.052422446],[-103.069255984,36.518767545],[-100.001664892,36.543596825],[-99.947481351,34.629539979],[-99.666860972,34.42584217],[-99.443502852,34.421964197],[-99.35225105,34.498731218],[-99.168595192,34.365424006],[-99.151419194,34.258301545],[-98.617954477,34.207820825],[-98.45306249,34.106891538],[-98.364816544,34.190188117],[-98.09945857,34.196541332],[-98.046652334,34.041269506],[-97.952756011,34.041201779],[-97.864138897,33.907847955],[-97.676628909,34.038434165],[-97.405805152,33.873028749],[-97.212875245,33.955774758],[-97.038044097,33.898091427],[-96.926673431,34.011772333],[-96.735380541,33.884608678],[-96.680475368,33.961655112],[-96.564887797,33.942126555],[-96.337457867,33.777559085],[-95.955516065,33.938561937],[-95.839855327,33.89476448],[-95.606920256,33.994652663],[-95.381475661,33.918893627],[-95.231846792,34.014910591],[-94.698494179,33.743140481],[-94.004066235,33.594411362],[-93.985199649,32.032647195],[-93.791098661,31.826988238],[-93.767547467,31.588362385],[-93.662551777,31.545530928],[-93.457684889,31.033670436],[-93.700113749,30.381833203],[-93.665049423,30.045410481],[-93.890130492,29.821797319],[-93.799781583,29.639425381],[-94.056090317,29.624317626],[-94.657152118,29.389436631],[-94.718038976,29.280154556],[-95.159355468,29.06646069],[-95.213790288,28.942762424],[-95.50016826,28.761183681],[-96.186041713,28.443188984],[-96.289079434,28.601154175],[-96.432821374,28.529113479],[-96.34373839,28.450730681],[-96.359955447,28.313841319],[-97.006743803,27.814142144],[-97.337113518,27.096559989],[-97.124072365,25.942387258],[-97.439608822,25.795808134],[-97.679904807,25.978401576],[-98.21225533,26.007020435],[-98.836320548,26.322054341],[-99.140934462,26.383114572],[-99.327120372,26.827148364],[-99.50162411,27.00994253],[-99.592395872,27.573469602],[-99.909497886,27.761719649],[-99.981046649,27.94715027],[-100.336999739,28.249004006],[-100.838189521,29.20917135],[-101.100663006,29.430928588],[-101.292388839,29.487132103],[-101.454690557,29.711166129],[-102.071783739,29.735317214],[-102.315415773,29.823623154],[-102.367950031,29.721216833],[-102.654036124,29.685139842],[-102.839343066,29.326617625],[-102.827541717,29.198036795],[-103.128945492,28.935570357],[-103.298967082,28.939999442],[-104.072183054,29.285652478],[-104.567370224,29.640927351],[-104.936146093,30.541708409],[-105.420535727,30.813004765],[-106.026575894,31.351101793],[-106.244681586,31.439332696],[-106.415717092,31.691927148],[-106.653129721,31.785506674],[-106.683192366,31.942887307]],[[-97.239626055,26.128786906],[-97.407263982,26.696945754],[-97.446677021,26.958965578],[-97.515484394,26.938223626],[-97.410651734,26.466128023],[-97.239626055,26.128786906]],[[-97.450153219,27.076390578],[-97.450269297,27.080311662],[-97.450868042,27.078870744],[-97.450153219,27.076390578]],[[-97.291085769,27.754783882],[-97.21678344,27.726390349],[-97.187452766,27.763276336],[-97.343308575,27.793643851],[-97.291085769,27.754783882]]]}\",\n",
       "    \"id\": 164,\n",
       "    \"key\": \"usa-texas\",\n",
       "    \"name\": \"USA - Texas\"\n",
       "}"
      ]
     },
     "execution_count": 2,
     "metadata": {},
     "output_type": "execute_result"
    }
   ],
   "source": [
    "texas_id = int(aois_list.loc[aois_list['key'] == 'usa-texas', 'id'].iloc[0])\n",
    "texas = query.get_aoi(texas_id)\n",
    "texas"
   ]
  },
  {
   "cell_type": "markdown",
   "metadata": {},
   "source": [
    "In order to check the AOI has the desired shape, it can be loaded into a geopandas dataframe and plotted with geoplot:"
   ]
  },
  {
   "cell_type": "code",
   "execution_count": 3,
   "metadata": {},
   "outputs": [
    {
     "data": {
      "image/png": "[encoded data removed]",
      "text/plain": [
       "<Figure size 800x600 with 1 Axes>"
      ]
     },
     "metadata": {},
     "output_type": "display_data"
    }
   ],
   "source": [
    "texas_geopandas = geopandas.read_file(texas.geojson, driver='GeoJSON')\n",
    "gx = geoplot.polyplot(texas_geopandas.geometry)"
   ]
  },
  {
   "cell_type": "markdown",
   "metadata": {},
   "source": [
    "## Query with an AOI\n",
    "\n",
    "Once it has been verified that the AOI is of the desired location for the query, we can run a raster query (see [Quick Start- Raster Query](raster_query.ipynb)) with the texas AOI id as the specified spatial definition:"
   ]
  },
  {
   "cell_type": "code",
   "execution_count": 4,
   "metadata": {},
   "outputs": [
    {
     "name": "stdout",
     "output_type": "stream",
     "text": [
      "2024-07-31 17:12:58 - paw - INFO - TASK: submit_check_status_and_download STARTING.\n",
      "2024-07-31 17:12:59 - paw - INFO - The query was successfully submitted with the id: 1722427200_15179013.\n",
      "2024-07-31 17:12:59 - paw - INFO - The query 1722427200_15179013 has the status Queued.\n",
      "2024-07-31 17:13:30 - paw - INFO - The query 1722427200_15179013 has the status Succeeded.\n",
      "2024-07-31 17:13:30 - paw - INFO - The query 1722427200_15179013 was successful after checking the status.\n",
      "2024-07-31 17:14:01 - paw - INFO - The query 1722427200_15179013 has the status Succeeded.\n",
      "2024-07-31 17:14:01 - paw - INFO - The query 1722427200_15179013 was successful after checking the status.\n",
      "2024-07-31 17:14:01 - paw - INFO - The query download folder is set to the path /ibmpairs/download/.\n",
      "2024-07-31 17:14:02 - paw - INFO - The query 1722427200_15179013 is a zip.\n",
      "2024-07-31 17:14:02 - paw - INFO - The query file for 1722427200_15179013 will be downloaded to the following path /ibmpairs/download/1722427200_15179013.zip.\n",
      "2024-07-31 17:14:02 - paw - INFO - The query file for 1722427200_15179013 was successfully downloaded to /ibmpairs/download/1722427200_15179013.zip.\n",
      "2024-07-31 17:14:02 - paw - INFO - The query zip /ibmpairs/download/1722427200_15179013.zip will be unzipped to the following path /ibmpairs/download/1722427200_15179013.\n",
      "2024-07-31 17:14:02 - paw - INFO - The query zip /ibmpairs/download/1722427200_15179013.zip was successfully unzipped to /ibmpairs/download/1722427200_15179013.\n",
      "2024-07-31 17:14:32 - paw - INFO - TASK: submit_check_status_and_download COMPLETED.\n"
     ]
    }
   ],
   "source": [
    "# ERA 5 Temperature query for Texas\n",
    "ERA5_texas_query_json = {\n",
    "  \"layers\": [\n",
    "    {\n",
    "      \"id\": \"49423\",\n",
    "      \"type\": \"raster\"\n",
    "    }\n",
    "  ],\n",
    "  \"name\": \"ERA5 1h Query for Texas for 2024-04-01\",\n",
    "  \"spatial\": {\n",
    "    \"aoi\": texas_id,\n",
    "    \"type\": \"poly\"\n",
    "  },\n",
    "  \"temporal\": {\n",
    "    \"intervals\": [\n",
    "      {\n",
    "        \"start\": \"2024-04-01T00:00:00Z\",\n",
    "        \"end\": \"2024-04-01T00:00:00Z\"\n",
    "      }\n",
    "    ]\n",
    "  }\n",
    "}\n",
    "\n",
    "ERA5_texas_query_result = query.submit_check_status_and_download(ERA5_texas_query_json)"
   ]
  },
  {
   "cell_type": "code",
   "execution_count": 5,
   "metadata": {},
   "outputs": [],
   "source": [
    "# Find layer files to load from downloaded zip.\n",
    "files = ERA5_texas_query_result.list_files()"
   ]
  },
  {
   "cell_type": "code",
   "execution_count": 6,
   "metadata": {},
   "outputs": [
    {
     "data": {
      "image/png": "[encoded data removed]",
      "text/plain": [
       "<Figure size 1600x720 with 2 Axes>"
      ]
     },
     "metadata": {},
     "output_type": "display_data"
    }
   ],
   "source": [
    "# Display the resulting image\n",
    "for file in files:\n",
    "    if file.endswith('.tiff'):\n",
    "        with open(file+'.json', 'r') as metadata_file:\n",
    "            metadata = json.load(metadata_file)\n",
    "        bbox=metadata[\"boundingBox\"]\n",
    "        extent=[bbox[\"minLongitude\"],\n",
    "                bbox[\"maxLongitude\"],\n",
    "                bbox[\"minLatitude\"],\n",
    "                bbox[\"maxLatitude\" ]]  \n",
    "        array_tiff = np.array(PIL.Image.open(file))\n",
    "        plt.figure(figsize = (20, 9), dpi=80)\n",
    "        vmin = metadata[\"rasterStatistics\"][\"pixelMin\"]\n",
    "        vmax = metadata[\"rasterStatistics\"][\"pixelMax\"]\n",
    "        plt.imshow(array_tiff,\n",
    "                   cmap = 'hot_r', \n",
    "                   vmin=vmin, \n",
    "                   vmax=vmax,\n",
    "                   extent = extent)\n",
    "        plt.colorbar()\n",
    "        plt.title(\" \" + os.path.basename(file))"
   ]
  },
  {
   "cell_type": "markdown",
   "metadata": {},
   "source": [
    "The query result, above, illustrates the temperature in Kelvin for 2024-04-01 at 00:00:00 across the state of Texas."
   ]
  }
 ],
 "metadata": {
  "kernelspec": {
   "display_name": "base",
   "language": "python",
   "name": "python3"
  },
  "language_info": {
   "codemirror_mode": {
    "name": "ipython",
    "version": 3
   },
   "file_extension": ".py",
   "mimetype": "text/x-python",
   "name": "python",
   "nbconvert_exporter": "python",
   "pygments_lexer": "ipython3",
   "version": "3.10.14"
  }
 },
 "nbformat": 4,
 "nbformat_minor": 2
}
