{
 "cells": [
  {
   "cell_type": "markdown",
   "metadata": {},
   "source": [
    "# Introducing Environmental Intelligence Suite: Greenhouse Gas(GHG) Emission APIs"
   ]
  },
  {
   "cell_type": "markdown",
   "metadata": {},
   "source": [
    "## What are greenhouse gas emissions?"
   ]
  },
  {
   "cell_type": "markdown",
   "metadata": {},
   "source": [
    "The release of certain gases into the Earth’s atmosphere can create a “greenhouse effect”, in which heat becomes trapped and global temperatures rise. While emissions can result from natural causes, they are primarily the result of human activities, especially the burning of fossil fuels for energy and transportation."
   ]
  },
  {
   "cell_type": "markdown",
   "metadata": {},
   "source": [
    "## What are Scope 1, 2 and 3 emissions?"
   ]
  },
  {
   "cell_type": "markdown",
   "metadata": {},
   "source": [
    "Scope 1, 2 and 3 emissions are categories used to describe an organization’s greenhouse gas (GHG) emissions based on their point of origin.\n",
    "\n",
    "The Greenhouse Gas Protocol (GHG Protocol), an internationally recognized standard, created the three scopes to provide a full picture of a business or organization’s environmental impact.\n",
    "\n",
    "- Scope 1 emissions are those created directly by the company.\n",
    "- Scope 2 emissions are indirectly created through purchased energy.\n",
    "- Scope 3 emissions are indirect emissions that occur in a company's value chain.\n",
    "\n",
    "Categorizing GHG emissions helps companies identify the origin of their emissions and subsequently develop effective strategies to reduce them. It also allows for benchmarking and comparison across industries and sectors, fostering transparency and accountability in corporate sustainability efforts."
   ]
  },
  {
   "cell_type": "markdown",
   "metadata": {},
   "source": [
    "## IBM Greenhouse Gas(GHG) APIs "
   ]
  },
  {
   "cell_type": "markdown",
   "metadata": {},
   "source": [
    "### Scope 1 - APIs"
   ]
  },
  {
   "cell_type": "markdown",
   "metadata": {},
   "source": [
    "**Stationary Emission API**\n",
    "\n",
    "Emission that includes the burning of fossil fuels such as natural gas, coal and oil for heat and power in stationary equipment. For example, a factory might burn coal in a boiler to create steam for its own operations.\n",
    "\n",
    "\n",
    "Our API Endpoint:\n",
    "\n",
    "https://foundation.agtech.ibm.com/v2/carbon/stationary\n",
    "\n",
    "\n",
    "- [click here to view our Stationary Emission tutorial to build your own use case](./scope1/stationary_emission.ipynb)\n",
    "\n",
    "\n",
    "**Mobile Emission API**\n",
    "\n",
    "These emissions are produced by burning fuels for transportation in company-owned or controlled vehicles such as cars, trucks, airplanes or ships.\n",
    "\n",
    "Our API Endpoint:\n",
    "\n",
    "https://foundation.agtech.ibm.com/v2/carbon/mobile\n",
    "\n",
    "- [click here to view our Mobile Emission tutorial to build your own use case](./scope1/mobile_emission.ipynb)\n",
    "\n",
    "**Fugitive Emission API**\n",
    "\n",
    "Emissions that are released through unintentional leaks from equipment or facilities. Common sources include refrigerant leaks from air conditioning and refrigeration systems, as well as methane leaks from oil and natural gas operations.\n",
    "\n",
    "Our API Endpoint:\n",
    "\n",
    "https://foundation.agtech.ibm.com/v2/carbon/fugitive\n",
    "\n",
    "- [click here to view our Fugitive Emission tutorial to build your own use case](./scope1/fugitive_emission.ipynb)"
   ]
  },
  {
   "cell_type": "code",
   "execution_count": null,
   "metadata": {
    "vscode": {
     "languageId": "plaintext"
    }
   },
   "outputs": [],
   "source": []
  },
  {
   "cell_type": "markdown",
   "metadata": {},
   "source": [
    "### Scope 2 - APIs"
   ]
  },
  {
   "cell_type": "markdown",
   "metadata": {},
   "source": [
    "**Location Based Emission API**\n",
    "\n",
    "If a company buys electricity from a power plant that burns coal, the carbon dioxide that the power plant releases is considered a Scope 2 emission for the company. Even though the company didn't directly emit carbon dioxide from its own facilities, it indirectly caused the emission by purchasing electricity.\n",
    "Calculate emissions based on the location of electricity consumption.\n",
    "\n",
    "Our API Endpoint:\n",
    "\n",
    "https://foundation.agtech.ibm.com/v2/carbon/location\n",
    "\n",
    "- [click here to view our Location Based Emission tutorial to build your own use case](./scope2/location_based_emission.ipynb)\n",
    "\n",
    "\n",
    "**Market Based Emission API**\n",
    "\n",
    "The Market Based Emission API is used to calculate emissions based on the market(e.g. green energy) of electricity consumption.\n",
    "\n",
    "Our API Endpoint:\n",
    "\n",
    "https://foundation.agtech.ibm.com/v2/carbon/market\n",
    "\n",
    "- [click here to view our Market Based Emission tutorial to build your own use case](./scope2/market_based_emission.ipynb)"
   ]
  },
  {
   "cell_type": "markdown",
   "metadata": {},
   "source": [
    "### Scope 3 - API"
   ]
  },
  {
   "cell_type": "markdown",
   "metadata": {},
   "source": [
    "**Transportation and Distribution Emission API**\n",
    "\n",
    "The Transportation and Distribution Emission API is used to calculate emissions in the upstream or downstream segments of a company's value chain, such as business travel or the transportation of goods, which fall under Scope 3 of the greenhouse gas (GHG) emissions framework.\n",
    "\n",
    "Our API Endpoint:\n",
    "\n",
    "https://foundation.agtech.ibm.com/v2/carbon/transportation_and_distribution\n",
    "\n",
    "- [click here to view our Transportation and Distribution Emission tutorial to build your own use case](./scope3/transportation_and_distribution_emission.ipynb)"
   ]
  },
  {
   "cell_type": "markdown",
   "metadata": {},
   "source": [
    "## Enabling Businesses to Build Effective GHG Reduction Strategies and Promote Transparency using our APIs"
   ]
  },
  {
   "cell_type": "markdown",
   "metadata": {},
   "source": [
    "Our  GHG APIs equip organizations with the tools to effectively measure and monitor their greenhouse gas emissions across all scopes. With comprehensive data analytics and reporting capabilities, businesses can create tailored strategies to reduce their environmental impact. Additionally, our solution supports greater transparency and accountability, helping companies meet sustainability goals, engage stakeholders, and continually enhance their carbon management practices."
   ]
  },
  {
   "cell_type": "markdown",
   "metadata": {},
   "source": [
    "## Industry Use Cases"
   ]
  },
  {
   "cell_type": "markdown",
   "metadata": {},
   "source": [
    "We developed some industry use cases to illustrate how your business can take advantage of GHG APIs:\n",
    "\n",
    "**Environmental impact of power plant** \n",
    "\n",
    "- Calculating the environmental impact of power plants will be used to identify oppurtunities for carbon reduction through efficiency improvemnets or cleaner fuel alternatives.\n",
    "\n",
    "- [View Environmental impact of power plant use case](../samples/scope1/environmental_impact_of_power_plant/power_plant.ipynb)\n",
    "\n",
    "\n",
    "**Refrigeration leaks insights**\n",
    "\n",
    "- Organizations can make data-driven decisions about refrigeration assets and their corresponding environmental impact.\n",
    "\n",
    "- [View Refrigeration leaks insights use case](../samples/scope1/refrigeration_leaks_insights/refrigeration_leaks_insights.ipynb)\n",
    "\n",
    "**Sustainable crew scheduling** \n",
    "\n",
    "- Organizations can use mobile emissions API to reduce of carbon footprint in sustainable work order fulfillment\n",
    "\n",
    "- [View Sustainable crew scheduling use case](../samples/scope1/sustainable_crew_scheduling/carbon_aware_crew_scheduling.ipynb)\n",
    "\n",
    "**Datacenter emission capture** \n",
    "\n",
    "- Data center operators can assess their environmental impact for reporting and identify opportunities for emission reduction on data center using Location and market based emissions API\n",
    "\n",
    "- [View Datacenter emission capture use case](../samples/scope2/datacenter_emission_capture/datacenter_emission_capture.ipynb)\n",
    "\n",
    "**Freight transport emission capture**\n",
    "\n",
    "- Organizations can make data-driven decisions about supply chain management and and their corresponding environmental impact\n",
    "\n",
    "- [View Freight transport emission capture use case](../samples/scope3/freight_transport_emission_capture/freight_transport_emission_capture.ipynb)"
   ]
  },
  {
   "cell_type": "markdown",
   "metadata": {},
   "source": [
    "## Related Links"
   ]
  },
  {
   "cell_type": "markdown",
   "metadata": {},
   "source": []
  },
  {
   "cell_type": "markdown",
   "metadata": {},
   "source": [
    "[GHG Emissions API Developer Guide](https://developer.ibm.com/apis/catalog/envintelsuite--ibm-environmental-intelligence/GHG+Emissions+API)\n",
    "\n",
    "[GHG Emissions Inventory](https://www.ibm.com/about/environment/ghg-emissions-inventory)\n",
    "\n",
    "[Understanding GHG Emissions](https://www.ibm.com/topics/greenhouse-gas-emissions)\n",
    "\n",
    "[GHG Emissions Scopes](https://www.ibm.com/think/topics/scope-1-2-3-emissions)"
   ]
  }
 ],
 "metadata": {
  "kernelspec": {
   "display_name": "Python 3",
   "language": "python",
   "name": "python3"
  },
  "language_info": {
   "codemirror_mode": {
    "name": "ipython",
    "version": 3
   },
   "file_extension": ".py",
   "mimetype": "text/x-python",
   "name": "python",
   "nbconvert_exporter": "python",
   "pygments_lexer": "ipython3",
   "version": "3.9.6"
  }
 },
 "nbformat": 4,
 "nbformat_minor": 2
}
