{
 "cells": [
  {
   "cell_type": "markdown",
   "metadata": {},
   "source": [
    "# Calculating the environmental impact of power plants"
   ]
  },
  {
   "cell_type": "markdown",
   "metadata": {},
   "source": [
    "**Table of contents**\n",
    "- Overview\n",
    "- Setup\n",
    "  - Get Token\n",
    "- Utility Functions\n",
    "    - Function to call API\n",
    "    - Input format for API\n",
    "    - Accepted input values\n",
    "- Use Case Implementation\n",
    "  - Coal-Fired Power Plant Type\n",
    "  - Natural Gas-Fired Power Plant Type\n",
    "  - Oil-Fired Power Plant Type\n",
    "  - Biomass-Fired Power Plant Type\n",
    "  - Comparison of Emissions Between Power Plant Types\n",
    "- Related Links"
   ]
  },
  {
   "cell_type": "markdown",
   "metadata": {},
   "source": [
    "## Overview"
   ]
  },
  {
   "cell_type": "markdown",
   "metadata": {},
   "source": [
    "APIs that are used in this sample: **IBM Environmental Intelligence Suite- Greenhouse Gas (GHG) Emissions - Stationary Emission API**\n",
    "\n",
    "You can calculate greenhouse gas (GHG) emissions for different types of power plants. In the energy sector, emissions can vary significantly depending on the type of fuel used and the energy content that is associated with that fuel. The API allows us to calculate emissions based on the fuel type and fuel consumption amount.\n",
    "\n",
    "The primary focus of this notebook is calculating emissions for different fuel types such as coal, oil, natural gas, and biomass, based on a given energy consumption using the **Stationary Emission API**.\n",
    "\n",
    "Read this example to learn how to complete the following tasks:\n",
    "- Input specific fuel data and energy content for various fuels.\n",
    "- Retrieve and analyze emissions data based on the given energy content.\n",
    "- Understand the impact of different fuels on overall GHG emissions in the power sector.\n",
    "\n",
    "**Business value**\n",
    "\n",
    "By leveraging these calculations, organizations can make data-driven decisions about fuel choices and their corresponding environmental impact, contributing to more sustainable energy generation.\n",
    "\n",
    "**Use Case**\n",
    "\n",
    "In this notebook, an example of Calculating the environmental impact of power plants will be used to identify oppurtunities for carbon reduction through efficiency improvemnets or cleaner fuel alternatives.\n",
    "\n",
    "For more information on the Stationary GHG Emissions API Endpoint inputs and the output data points, see [GHG Emissions API Developer Guide](https://developer.ibm.com/apis/catalog/envintelsuite--ibm-environmental-intelligence/GHG+Emissions+API).\n"
   ]
  },
  {
   "cell_type": "markdown",
   "metadata": {},
   "source": [
    "![Alt text](power_plant.png \"Power Plant\")"
   ]
  },
  {
   "cell_type": "markdown",
   "metadata": {},
   "source": [
    "## Setup"
   ]
  },
  {
   "cell_type": "markdown",
   "metadata": {},
   "source": [
    "Ensure that Python is installed in your system. Python 3+ is required.\n",
    "\n",
    "\n",
    "<b>Note:</b> To run this notebook seamlessly, you have to first configure your credentials for GHG Emission APIs in a file named `secrets.ini` in the following format:\n",
    "\n",
    "```\n",
    "[EI]\n",
    "api.api_key = <Your GHG APIs API key>\n",
    "api.client_id = <Your GHG APIs client Id>\n",
    "```\n",
    "\n",
    "Keep the secrets.ini file at an appropriate relative location of this notebook, for example, as specified in this config:\n",
    "\n",
    "```config.read('../../../auth/secrets.ini')```"
   ]
  },
  {
   "cell_type": "code",
   "execution_count": 140,
   "metadata": {},
   "outputs": [],
   "source": [
    "# Install below packages using pip/pip3 based on your python version.\n",
    "# pip install pandas,configparser,json,IPython\n",
    "import pandas as pd\n",
    "import configparser\n",
    "import requests\n",
    "import json\n",
    "from IPython.display import display as display_summary\n",
    "import matplotlib.pyplot as plt"
   ]
  },
  {
   "cell_type": "markdown",
   "metadata": {},
   "source": [
    "### Get token"
   ]
  },
  {
   "cell_type": "markdown",
   "metadata": {},
   "source": [
    "Run the following code snippet to generate the Auth Bearer Token by using your api_key configured in secrets.ini."
   ]
  },
  {
   "cell_type": "code",
   "execution_count": 141,
   "metadata": {},
   "outputs": [],
   "source": [
    "config = configparser.RawConfigParser()\n",
    "config.read(['../../../auth/secrets.ini','../../../auth/config.ini'])\n",
    "\n",
    "EI_API_KEY  = config.get('EI', 'api.api_key')\n",
    "EI_CLIENT_ID = config.get('EI', 'api.client_id')\n",
    "EI_AUTH_ENPOINT = config.get('EI', 'api.auth_endpoint')\n",
    "EI_BASE_URL = config.get('EI', 'api.base_url')\n",
    "\n",
    "def get_bearer_token(token):\n",
    "    headers = {\n",
    "        'Content-Type': 'application/json',\n",
    "        'cache-control': 'no-cache',\n",
    "    }\n",
    "    data = {\"apiKey\":token, \"clientId\":EI_CLIENT_ID}\n",
    "    bearer_token_req = requests.post(EI_AUTH_ENPOINT, headers=headers, data= json.dumps(data))\n",
    "    if bearer_token_req.status_code != 200:\n",
    "        print( \"Error in getting Bearer token. Error code : \",bearer_token_req.status_code)\n",
    "    return bearer_token_req.json()['access_token']\n",
    "\n",
    "mybearer_token = get_bearer_token(EI_API_KEY)"
   ]
  },
  {
   "cell_type": "markdown",
   "metadata": {},
   "source": [
    "## Utility Functions"
   ]
  },
  {
   "cell_type": "markdown",
   "metadata": {},
   "source": [
    "Let us set up utility helper functions to run this use case."
   ]
  },
  {
   "cell_type": "markdown",
   "metadata": {},
   "source": [
    "### Function to call API"
   ]
  },
  {
   "cell_type": "code",
   "execution_count": 142,
   "metadata": {},
   "outputs": [],
   "source": [
    "def call_carbon_api(co2_api, co2_data, token):\n",
    "    headers = {\n",
    "        'accept': 'application/json',\n",
    "        'Authorization': 'Bearer '+token,\n",
    "        'Content-Type': 'application/json',\n",
    "    }\n",
    "\n",
    "    co2_response_req = requests.post( co2_api, headers=headers, data=json.dumps(co2_data))\n",
    "    if co2_response_req.status_code != 200:\n",
    "        print( \"Problem! Error in generating response. Error code : \",co2_response_req.status_code)\n",
    "    return co2_response_req.json()"
   ]
  },
  {
   "cell_type": "markdown",
   "metadata": {},
   "source": [
    "### Input format for API"
   ]
  },
  {
   "cell_type": "code",
   "execution_count": 143,
   "metadata": {},
   "outputs": [],
   "source": [
    "def customer_id(customer_id):\n",
    "    Input =  {\n",
    "              \"id\": customer_id\n",
    "          }\n",
    "    return Input \n",
    "\n",
    "def customer_on_behalf_of_client(company_id,company_name):\n",
    "    Input =  {\n",
    "              \"companyId\": company_id,\n",
    "              \"companyName\": company_name\n",
    "          }\n",
    "    return Input  \n",
    "\n",
    "\n",
    "def customer_organisation(department_id,department_name):\n",
    "    Input =  {\n",
    "              \"departmentId\": department_id,\n",
    "              \"departmentName\": department_name\n",
    "          }\n",
    "    return Input  \n",
    "\n",
    "\n",
    "def customer_request_type(request_type):\n",
    "    return request_type     \n",
    "\n",
    "\n",
    "def customer_location(country,state_province,zip_post_code,city):\n",
    "    Input =  {\n",
    "              \"country\": country,\n",
    "              \"stateProvince\": state_province,\n",
    "              \"zipPostCode\": zip_post_code,\n",
    "              \"city\": city\n",
    "          }\n",
    "    return Input        \n",
    "\n",
    "\n",
    "def customer_site(site_id,site_name,building_id,building_name):\n",
    "    Input = {\n",
    "              \"siteId\": site_id,\n",
    "              \"siteName\": site_name,\n",
    "              \"buildingId\": building_id,\n",
    "              \"buildingName\": building_name\n",
    "          }               \n",
    "    return Input\n",
    "\n",
    "def stationary_input(sector,fuel_name,fuel_amount,fuel_unit,hv_basis):\n",
    "    input = {\"sector\": sector,\n",
    "             \"fuelName\": fuel_name,\n",
    "             \"fuelAmount\": fuel_amount,\n",
    "             \"fuelUnit\": fuel_unit,\n",
    "             \"hvBasis\": hv_basis\n",
    "            }\n",
    "    return input"
   ]
  },
  {
   "cell_type": "markdown",
   "metadata": {},
   "source": [
    "### Accepted input values"
   ]
  },
  {
   "cell_type": "markdown",
   "metadata": {},
   "source": [
    "\n",
    "\n",
    "You can check the accepted values for the individual fields of the request payload. For more information, see [GHG Emissions API Developer Guide](https://developer.ibm.com/apis/catalog/envintelsuite--ibm-environmental-intelligence/GHG+Emissions+API#stationary)."
   ]
  },
  {
   "cell_type": "markdown",
   "metadata": {},
   "source": [
    "## Use Case Implementation"
   ]
  },
  {
   "cell_type": "markdown",
   "metadata": {},
   "source": [
    "### Coal-Fired Power Plant Type"
   ]
  },
  {
   "cell_type": "markdown",
   "metadata": {},
   "source": [
    "You can measure the impact of a coal-fired power plant on the environment. In this example, the coal-fired power plant uses the lignite as fuel and the energy content is 5 GigaJoules (GJ). The output is the measurement of all the Greenhouse Gas Emissions."
   ]
  },
  {
   "cell_type": "code",
   "execution_count": 144,
   "metadata": {},
   "outputs": [],
   "source": [
    "fuel_type = \"lignite\"\n",
    "energy_content = \"5\" #Giga Joule"
   ]
  },
  {
   "cell_type": "code",
   "execution_count": 145,
   "metadata": {},
   "outputs": [
    {
     "name": "stdout",
     "output_type": "stream",
     "text": [
      "Requests payload is : {\n",
      "  \"customID\": {\n",
      "    \"id\": \"6377709825425408\"\n",
      "  },\n",
      "  \"onBehalfOfClient\": {\n",
      "    \"companyId\": \"1687653745426432\",\n",
      "    \"companyName\": \"Mike Wright\"\n",
      "  },\n",
      "  \"organisation\": {\n",
      "    \"departmentId\": \"1551140483235840\",\n",
      "    \"departmentName\": \"Cordelia McDaniel\"\n",
      "  },\n",
      "  \"requestType\": \"ACTUAL\",\n",
      "  \"location\": {\n",
      "    \"country\": \"Niger\",\n",
      "    \"stateProvince\": \"QC\",\n",
      "    \"zipPostCode\": \"E1G 8B1\",\n",
      "    \"city\": \"Caposoode\"\n",
      "  },\n",
      "  \"site\": {\n",
      "    \"siteId\": \"5220563278626816\",\n",
      "    \"siteName\": \"Johnny Soto\",\n",
      "    \"buildingId\": \"7334540951420928\",\n",
      "    \"buildingName\": \"Grace Ryan\"\n",
      "  },\n",
      "  \"timePeriod\": {\n",
      "    \"year\": \"2021\",\n",
      "    \"month\": \"1\"\n",
      "  },\n",
      "  \"activityData\": {\n",
      "    \"sector\": \"Energy\",\n",
      "    \"fuelName\": \"lignite\",\n",
      "    \"fuelAmount\": \"5\",\n",
      "    \"fuelUnit\": \"GJ\",\n",
      "    \"hvBasis\": \"Not applicable\"\n",
      "  }\n",
      "}\n"
     ]
    }
   ],
   "source": [
    "request_payload ={'customID'        : customer_id(customer_id='6377709825425408'), \n",
    "                   'onBehalfOfClient': customer_on_behalf_of_client(company_id='1687653745426432',\n",
    "                                                                 company_name='Mike Wright') , \n",
    "                   'organisation'    : customer_organisation(department_id='1551140483235840',\n",
    "                                                             department_name='Cordelia McDaniel'), \n",
    "                   'requestType'     : customer_request_type(request_type='ACTUAL'), \n",
    "                   'location'        : customer_location(country='Niger',\n",
    "                                                         state_province='QC',\n",
    "                                                         zip_post_code='E1G 8B1',\n",
    "                                                         city='Caposoode'),\n",
    "                   'site'            : customer_site(site_id='5220563278626816',\n",
    "                                                     site_name='Johnny Soto',\n",
    "                                                     building_id='7334540951420928',\n",
    "                                                     building_name='Grace Ryan'), \n",
    "                   'timePeriod'      : {'year' : '2021', \n",
    "                                        'month': '1'},\n",
    "                   'activityData' : stationary_input(sector     = 'Energy', \n",
    "                                                        fuel_name   = fuel_type,\n",
    "                                                        fuel_amount = energy_content,\n",
    "                                                        fuel_unit   = 'GJ',\n",
    "                                                        hv_basis    = 'Not applicable')\n",
    "                   }        \n",
    "       \n",
    "print(\"Requests payload is :\",json.dumps(request_payload, indent=2))   "
   ]
  },
  {
   "cell_type": "code",
   "execution_count": 146,
   "metadata": {},
   "outputs": [
    {
     "data": {
      "text/html": [
       "<style type=\"text/css\">\n",
       "#T_aacc5 table {\n",
       "  display: block;\n",
       "  overflow-x: auto;\n",
       "  white-space: nowrap;\n",
       "}\n",
       "</style>\n",
       "<table id=\"T_aacc5\">\n",
       "  <thead>\n",
       "    <tr>\n",
       "      <th class=\"blank level0\" >&nbsp;</th>\n",
       "      <th id=\"T_aacc5_level0_col0\" class=\"col_heading level0 col0\" >CH4</th>\n",
       "      <th id=\"T_aacc5_level0_col1\" class=\"col_heading level0 col1\" >CO2e</th>\n",
       "      <th id=\"T_aacc5_level0_col2\" class=\"col_heading level0 col2\" >N2O</th>\n",
       "      <th id=\"T_aacc5_level0_col3\" class=\"col_heading level0 col3\" >biogenicCO2</th>\n",
       "      <th id=\"T_aacc5_level0_col4\" class=\"col_heading level0 col4\" >description</th>\n",
       "      <th id=\"T_aacc5_level0_col5\" class=\"col_heading level0 col5\" >fossilFuelCO2</th>\n",
       "      <th id=\"T_aacc5_level0_col6\" class=\"col_heading level0 col6\" >unitOfMeasurement</th>\n",
       "    </tr>\n",
       "  </thead>\n",
       "  <tbody>\n",
       "    <tr>\n",
       "      <th id=\"T_aacc5_level0_row0\" class=\"row_heading level0 row0\" >0</th>\n",
       "      <td id=\"T_aacc5_row0_col0\" class=\"data row0 col0\" >0.000100</td>\n",
       "      <td id=\"T_aacc5_row0_col1\" class=\"data row0 col1\" >0.491200</td>\n",
       "      <td id=\"T_aacc5_row0_col2\" class=\"data row0 col2\" >0.000000</td>\n",
       "      <td id=\"T_aacc5_row0_col3\" class=\"data row0 col3\" >0</td>\n",
       "      <td id=\"T_aacc5_row0_col4\" class=\"data row0 col4\" >Fuel Analysis Method is used. Emission factors are obtained from 2024 EPA Emission Factors Hub. GWP values are obtained from IPCC Sixth Assessment Report, 2021 (AR6)</td>\n",
       "      <td id=\"T_aacc5_row0_col5\" class=\"data row0 col5\" >0.487500</td>\n",
       "      <td id=\"T_aacc5_row0_col6\" class=\"data row0 col6\" >metric tonne</td>\n",
       "    </tr>\n",
       "  </tbody>\n",
       "</table>\n"
      ],
      "text/plain": [
       "<pandas.io.formats.style.Styler at 0x302b7f990>"
      ]
     },
     "metadata": {},
     "output_type": "display_data"
    }
   ],
   "source": [
    "EI_API_ENDPOINT = f\"{EI_BASE_URL}/v2/carbon/stationary\"\n",
    "co2_response_coal_fired = call_carbon_api(EI_API_ENDPOINT , request_payload, mybearer_token)\n",
    "\n",
    "df_res = pd.json_normalize(co2_response_coal_fired)\n",
    "df_styled = df_res.style.set_table_styles([{\n",
    "    'selector': 'table',\n",
    "    'props' : [\n",
    "        ('display', 'block'),\n",
    "        ('overflow-x', 'auto'),\n",
    "        ('white-space', 'nowrap')\n",
    "    ]\n",
    "}])\n",
    "display_summary(df_styled)"
   ]
  },
  {
   "cell_type": "markdown",
   "metadata": {},
   "source": [
    "### Natural Gas-Fired Power Plant Type"
   ]
  },
  {
   "cell_type": "markdown",
   "metadata": {},
   "source": [
    "You can measure the impact of a natural gas-fired power plant on the environment. In this example, the natural gas-fired power plant uses natural gas as fuel and the energy content is 5 GigaJoules. The output is the measurement of all the Greenhouse Gas Emissions."
   ]
  },
  {
   "cell_type": "code",
   "execution_count": 147,
   "metadata": {},
   "outputs": [],
   "source": [
    "fuel_type = \"Natural gas\"\n",
    "energy_content = \"5\" #Giga Joule"
   ]
  },
  {
   "cell_type": "code",
   "execution_count": 148,
   "metadata": {},
   "outputs": [
    {
     "name": "stdout",
     "output_type": "stream",
     "text": [
      "Requests payload is : {\n",
      "  \"customID\": {\n",
      "    \"id\": \"6377709825425408\"\n",
      "  },\n",
      "  \"onBehalfOfClient\": {\n",
      "    \"companyId\": \"1687653745426432\",\n",
      "    \"companyName\": \"Mike Wright\"\n",
      "  },\n",
      "  \"organisation\": {\n",
      "    \"departmentId\": \"1551140483235840\",\n",
      "    \"departmentName\": \"Cordelia McDaniel\"\n",
      "  },\n",
      "  \"requestType\": \"ACTUAL\",\n",
      "  \"location\": {\n",
      "    \"country\": \"Niger\",\n",
      "    \"stateProvince\": \"QC\",\n",
      "    \"zipPostCode\": \"E1G 8B1\",\n",
      "    \"city\": \"Caposoode\"\n",
      "  },\n",
      "  \"site\": {\n",
      "    \"siteId\": \"5220563278626816\",\n",
      "    \"siteName\": \"Johnny Soto\",\n",
      "    \"buildingId\": \"7334540951420928\",\n",
      "    \"buildingName\": \"Grace Ryan\"\n",
      "  },\n",
      "  \"timePeriod\": {\n",
      "    \"year\": \"2021\",\n",
      "    \"month\": \"1\"\n",
      "  },\n",
      "  \"activityData\": {\n",
      "    \"sector\": \"Energy\",\n",
      "    \"fuelName\": \"Natural gas\",\n",
      "    \"fuelAmount\": \"5\",\n",
      "    \"fuelUnit\": \"GJ\",\n",
      "    \"hvBasis\": \"Not applicable\"\n",
      "  }\n",
      "}\n"
     ]
    }
   ],
   "source": [
    "request_payload ={'customID'        : customer_id(customer_id='6377709825425408'), \n",
    "                   'onBehalfOfClient': customer_on_behalf_of_client(company_id='1687653745426432',\n",
    "                                                                 company_name='Mike Wright') , \n",
    "                   'organisation'    : customer_organisation(department_id='1551140483235840',\n",
    "                                                             department_name='Cordelia McDaniel'), \n",
    "                   'requestType'     : customer_request_type(request_type='ACTUAL'), \n",
    "                   'location'        : customer_location(country='Niger',\n",
    "                                                         state_province='QC',\n",
    "                                                         zip_post_code='E1G 8B1',\n",
    "                                                         city='Caposoode'),\n",
    "                   'site'            : customer_site(site_id='5220563278626816',\n",
    "                                                     site_name='Johnny Soto',\n",
    "                                                     building_id='7334540951420928',\n",
    "                                                     building_name='Grace Ryan'), \n",
    "                   'timePeriod'      : {'year' : '2021', \n",
    "                                        'month': '1'},\n",
    "                   'activityData' : stationary_input(sector     = 'Energy', \n",
    "                                                        fuel_name   = fuel_type,\n",
    "                                                        fuel_amount = energy_content,\n",
    "                                                        fuel_unit   = 'GJ',\n",
    "                                                        hv_basis    = 'Not applicable')\n",
    "                   }        \n",
    "       \n",
    "print(\"Requests payload is :\",json.dumps(request_payload, indent=2))   "
   ]
  },
  {
   "cell_type": "code",
   "execution_count": 149,
   "metadata": {},
   "outputs": [
    {
     "data": {
      "text/html": [
       "<style type=\"text/css\">\n",
       "#T_d3330 table {\n",
       "  display: block;\n",
       "  overflow-x: auto;\n",
       "  white-space: nowrap;\n",
       "}\n",
       "</style>\n",
       "<table id=\"T_d3330\">\n",
       "  <thead>\n",
       "    <tr>\n",
       "      <th class=\"blank level0\" >&nbsp;</th>\n",
       "      <th id=\"T_d3330_level0_col0\" class=\"col_heading level0 col0\" >CH4</th>\n",
       "      <th id=\"T_d3330_level0_col1\" class=\"col_heading level0 col1\" >CO2e</th>\n",
       "      <th id=\"T_d3330_level0_col2\" class=\"col_heading level0 col2\" >N2O</th>\n",
       "      <th id=\"T_d3330_level0_col3\" class=\"col_heading level0 col3\" >biogenicCO2</th>\n",
       "      <th id=\"T_d3330_level0_col4\" class=\"col_heading level0 col4\" >description</th>\n",
       "      <th id=\"T_d3330_level0_col5\" class=\"col_heading level0 col5\" >fossilFuelCO2</th>\n",
       "      <th id=\"T_d3330_level0_col6\" class=\"col_heading level0 col6\" >unitOfMeasurement</th>\n",
       "    </tr>\n",
       "  </thead>\n",
       "  <tbody>\n",
       "    <tr>\n",
       "      <th id=\"T_d3330_level0_row0\" class=\"row_heading level0 row0\" >0</th>\n",
       "      <td id=\"T_d3330_row0_col0\" class=\"data row0 col0\" >0.000000</td>\n",
       "      <td id=\"T_d3330_row0_col1\" class=\"data row0 col1\" >0.279700</td>\n",
       "      <td id=\"T_d3330_row0_col2\" class=\"data row0 col2\" >0.000000</td>\n",
       "      <td id=\"T_d3330_row0_col3\" class=\"data row0 col3\" >0</td>\n",
       "      <td id=\"T_d3330_row0_col4\" class=\"data row0 col4\" >Fuel Analysis Method is used. Emission factors are obtained from 2024 EPA Emission Factors Hub. GWP values are obtained from IPCC Sixth Assessment Report, 2021 (AR6)</td>\n",
       "      <td id=\"T_d3330_row0_col5\" class=\"data row0 col5\" >0.279400</td>\n",
       "      <td id=\"T_d3330_row0_col6\" class=\"data row0 col6\" >metric tonne</td>\n",
       "    </tr>\n",
       "  </tbody>\n",
       "</table>\n"
      ],
      "text/plain": [
       "<pandas.io.formats.style.Styler at 0x302b1bb90>"
      ]
     },
     "metadata": {},
     "output_type": "display_data"
    }
   ],
   "source": [
    "EI_API_ENDPOINT = f\"{EI_BASE_URL}/v2/carbon/stationary\"\n",
    "co2_response_naturalgas_fired = call_carbon_api(EI_API_ENDPOINT , request_payload, mybearer_token)\n",
    "\n",
    "df_res = pd.json_normalize(co2_response_naturalgas_fired)\n",
    "df_styled = df_res.style.set_table_styles([{\n",
    "    'selector': 'table',\n",
    "    'props' : [\n",
    "        ('display', 'block'),\n",
    "        ('overflow-x', 'auto'),\n",
    "        ('white-space', 'nowrap')\n",
    "    ]\n",
    "}])\n",
    "display_summary(df_styled)"
   ]
  },
  {
   "cell_type": "markdown",
   "metadata": {},
   "source": [
    "### Oil-Fired Power Plant Type"
   ]
  },
  {
   "cell_type": "markdown",
   "metadata": {},
   "source": [
    "You can measure the impact of an oil-fired power plant on the environment. In this example, the oil-fired power plant uses crude oil as fuel and the energy content is 5 GigaJoules.  The output is the measurement of all the Greenhouse Gas Emissions."
   ]
  },
  {
   "cell_type": "code",
   "execution_count": 150,
   "metadata": {},
   "outputs": [],
   "source": [
    "fuel_type = \"crude oil\"\n",
    "energy_content = \"5\" #Giga Joule"
   ]
  },
  {
   "cell_type": "code",
   "execution_count": 151,
   "metadata": {},
   "outputs": [
    {
     "name": "stdout",
     "output_type": "stream",
     "text": [
      "Requests payload is : {\n",
      "  \"customID\": {\n",
      "    \"id\": \"6377709825425408\"\n",
      "  },\n",
      "  \"onBehalfOfClient\": {\n",
      "    \"companyId\": \"1687653745426432\",\n",
      "    \"companyName\": \"Mike Wright\"\n",
      "  },\n",
      "  \"organisation\": {\n",
      "    \"departmentId\": \"1551140483235840\",\n",
      "    \"departmentName\": \"Cordelia McDaniel\"\n",
      "  },\n",
      "  \"requestType\": \"ACTUAL\",\n",
      "  \"location\": {\n",
      "    \"country\": \"Niger\",\n",
      "    \"stateProvince\": \"QC\",\n",
      "    \"zipPostCode\": \"E1G 8B1\",\n",
      "    \"city\": \"Caposoode\"\n",
      "  },\n",
      "  \"site\": {\n",
      "    \"siteId\": \"5220563278626816\",\n",
      "    \"siteName\": \"Johnny Soto\",\n",
      "    \"buildingId\": \"7334540951420928\",\n",
      "    \"buildingName\": \"Grace Ryan\"\n",
      "  },\n",
      "  \"timePeriod\": {\n",
      "    \"year\": \"2021\",\n",
      "    \"month\": \"1\"\n",
      "  },\n",
      "  \"activityData\": {\n",
      "    \"sector\": \"Energy\",\n",
      "    \"fuelName\": \"crude oil\",\n",
      "    \"fuelAmount\": \"5\",\n",
      "    \"fuelUnit\": \"GJ\",\n",
      "    \"hvBasis\": \"Not applicable\"\n",
      "  }\n",
      "}\n"
     ]
    }
   ],
   "source": [
    "request_payload ={'customID'        : customer_id(customer_id='6377709825425408'), \n",
    "                   'onBehalfOfClient': customer_on_behalf_of_client(company_id='1687653745426432',\n",
    "                                                                 company_name='Mike Wright') , \n",
    "                   'organisation'    : customer_organisation(department_id='1551140483235840',\n",
    "                                                             department_name='Cordelia McDaniel'), \n",
    "                   'requestType'     : customer_request_type(request_type='ACTUAL'), \n",
    "                   'location'        : customer_location(country='Niger',\n",
    "                                                         state_province='QC',\n",
    "                                                         zip_post_code='E1G 8B1',\n",
    "                                                         city='Caposoode'),\n",
    "                   'site'            : customer_site(site_id='5220563278626816',\n",
    "                                                     site_name='Johnny Soto',\n",
    "                                                     building_id='7334540951420928',\n",
    "                                                     building_name='Grace Ryan'), \n",
    "                   'timePeriod'      : {'year' : '2021', \n",
    "                                        'month': '1'},\n",
    "                   'activityData' : stationary_input(sector     = 'Energy', \n",
    "                                                        fuel_name   = fuel_type,\n",
    "                                                        fuel_amount = energy_content,\n",
    "                                                        fuel_unit   = 'GJ',\n",
    "                                                        hv_basis    = 'Not applicable')\n",
    "                   }        \n",
    "       \n",
    "print(\"Requests payload is :\",json.dumps(request_payload, indent=2))   "
   ]
  },
  {
   "cell_type": "code",
   "execution_count": 152,
   "metadata": {},
   "outputs": [
    {
     "data": {
      "text/html": [
       "<style type=\"text/css\">\n",
       "#T_c4843 table {\n",
       "  display: block;\n",
       "  overflow-x: auto;\n",
       "  white-space: nowrap;\n",
       "}\n",
       "</style>\n",
       "<table id=\"T_c4843\">\n",
       "  <thead>\n",
       "    <tr>\n",
       "      <th class=\"blank level0\" >&nbsp;</th>\n",
       "      <th id=\"T_c4843_level0_col0\" class=\"col_heading level0 col0\" >CH4</th>\n",
       "      <th id=\"T_c4843_level0_col1\" class=\"col_heading level0 col1\" >CO2e</th>\n",
       "      <th id=\"T_c4843_level0_col2\" class=\"col_heading level0 col2\" >N2O</th>\n",
       "      <th id=\"T_c4843_level0_col3\" class=\"col_heading level0 col3\" >biogenicCO2</th>\n",
       "      <th id=\"T_c4843_level0_col4\" class=\"col_heading level0 col4\" >description</th>\n",
       "      <th id=\"T_c4843_level0_col5\" class=\"col_heading level0 col5\" >fossilFuelCO2</th>\n",
       "      <th id=\"T_c4843_level0_col6\" class=\"col_heading level0 col6\" >unitOfMeasurement</th>\n",
       "    </tr>\n",
       "  </thead>\n",
       "  <tbody>\n",
       "    <tr>\n",
       "      <th id=\"T_c4843_level0_row0\" class=\"row_heading level0 row0\" >0</th>\n",
       "      <td id=\"T_c4843_row0_col0\" class=\"data row0 col0\" >0.000000</td>\n",
       "      <td id=\"T_c4843_row0_col1\" class=\"data row0 col1\" >0.373100</td>\n",
       "      <td id=\"T_c4843_row0_col2\" class=\"data row0 col2\" >0.000000</td>\n",
       "      <td id=\"T_c4843_row0_col3\" class=\"data row0 col3\" >0</td>\n",
       "      <td id=\"T_c4843_row0_col4\" class=\"data row0 col4\" >Fuel Analysis Method is used. Emission factors are obtained from 2024 EPA Emission Factors Hub. GWP values are obtained from IPCC Sixth Assessment Report, 2021 (AR6)</td>\n",
       "      <td id=\"T_c4843_row0_col5\" class=\"data row0 col5\" >0.371800</td>\n",
       "      <td id=\"T_c4843_row0_col6\" class=\"data row0 col6\" >metric tonne</td>\n",
       "    </tr>\n",
       "  </tbody>\n",
       "</table>\n"
      ],
      "text/plain": [
       "<pandas.io.formats.style.Styler at 0x302b19950>"
      ]
     },
     "metadata": {},
     "output_type": "display_data"
    }
   ],
   "source": [
    "EI_API_ENDPOINT = f\"{EI_BASE_URL}/v2/carbon/stationary\"\n",
    "co2_response_oil_fired = call_carbon_api(EI_API_ENDPOINT , request_payload, mybearer_token)\n",
    "\n",
    "df_res = pd.json_normalize(co2_response_oil_fired)\n",
    "df_styled = df_res.style.set_table_styles([{\n",
    "    'selector': 'table',\n",
    "    'props' : [\n",
    "        ('display', 'block'),\n",
    "        ('overflow-x', 'auto'),\n",
    "        ('white-space', 'nowrap')\n",
    "    ]\n",
    "}])\n",
    "display_summary(df_styled)"
   ]
  },
  {
   "cell_type": "markdown",
   "metadata": {},
   "source": [
    "### Biomass-Fired Power Plant Type"
   ]
  },
  {
   "cell_type": "markdown",
   "metadata": {},
   "source": [
    "You can measure the impact of a biomass-fired power plant on the environment. In this example, the biomass-fired power plant uses wood or wood waste as the fuel and the energy content is 5 GigaJoules."
   ]
  },
  {
   "cell_type": "code",
   "execution_count": 153,
   "metadata": {},
   "outputs": [],
   "source": [
    "fuel_type = \"Wood or Wood waste\"\n",
    "energy_content = \"5\" #Giga Joule"
   ]
  },
  {
   "cell_type": "code",
   "execution_count": 154,
   "metadata": {},
   "outputs": [
    {
     "name": "stdout",
     "output_type": "stream",
     "text": [
      "The request payload is : {\n",
      "  \"customID\": {\n",
      "    \"id\": \"6377709825425408\"\n",
      "  },\n",
      "  \"onBehalfOfClient\": {\n",
      "    \"companyId\": \"1687653745426432\",\n",
      "    \"companyName\": \"Mike Wright\"\n",
      "  },\n",
      "  \"organisation\": {\n",
      "    \"departmentId\": \"1551140483235840\",\n",
      "    \"departmentName\": \"Cordelia McDaniel\"\n",
      "  },\n",
      "  \"requestType\": \"ACTUAL\",\n",
      "  \"location\": {\n",
      "    \"country\": \"Niger\",\n",
      "    \"stateProvince\": \"QC\",\n",
      "    \"zipPostCode\": \"E1G 8B1\",\n",
      "    \"city\": \"Caposoode\"\n",
      "  },\n",
      "  \"site\": {\n",
      "    \"siteId\": \"5220563278626816\",\n",
      "    \"siteName\": \"Johnny Soto\",\n",
      "    \"buildingId\": \"7334540951420928\",\n",
      "    \"buildingName\": \"Grace Ryan\"\n",
      "  },\n",
      "  \"timePeriod\": {\n",
      "    \"year\": \"2021\",\n",
      "    \"month\": \"1\"\n",
      "  },\n",
      "  \"activityData\": {\n",
      "    \"sector\": \"Energy\",\n",
      "    \"fuelName\": \"Wood or Wood waste\",\n",
      "    \"fuelAmount\": \"5\",\n",
      "    \"fuelUnit\": \"GJ\",\n",
      "    \"hvBasis\": \"Not applicable\"\n",
      "  }\n",
      "}\n"
     ]
    }
   ],
   "source": [
    "request_payload ={'customID'        : customer_id(customer_id='6377709825425408'), \n",
    "                   'onBehalfOfClient': customer_on_behalf_of_client(company_id='1687653745426432',\n",
    "                                                                 company_name='Mike Wright') , \n",
    "                   'organisation'    : customer_organisation(department_id='1551140483235840',\n",
    "                                                             department_name='Cordelia McDaniel'), \n",
    "                   'requestType'     : customer_request_type(request_type='ACTUAL'), \n",
    "                   'location'        : customer_location(country='Niger',\n",
    "                                                         state_province='QC',\n",
    "                                                         zip_post_code='E1G 8B1',\n",
    "                                                         city='Caposoode'),\n",
    "                   'site'            : customer_site(site_id='5220563278626816',\n",
    "                                                     site_name='Johnny Soto',\n",
    "                                                     building_id='7334540951420928',\n",
    "                                                     building_name='Grace Ryan'), \n",
    "                   'timePeriod'      : {'year' : '2021', \n",
    "                                        'month': '1'},\n",
    "                   'activityData' : stationary_input(sector     = 'Energy', \n",
    "                                                        fuel_name   = fuel_type,\n",
    "                                                        fuel_amount = energy_content,\n",
    "                                                        fuel_unit   = 'GJ',\n",
    "                                                        hv_basis    = 'Not applicable')\n",
    "                   }        \n",
    "       \n",
    "print(\"The request payload is :\",json.dumps(request_payload, indent=2))   "
   ]
  },
  {
   "cell_type": "code",
   "execution_count": 155,
   "metadata": {},
   "outputs": [
    {
     "data": {
      "text/html": [
       "<style type=\"text/css\">\n",
       "#T_01a66 table {\n",
       "  display: block;\n",
       "  overflow-x: auto;\n",
       "  white-space: nowrap;\n",
       "}\n",
       "</style>\n",
       "<table id=\"T_01a66\">\n",
       "  <thead>\n",
       "    <tr>\n",
       "      <th class=\"blank level0\" >&nbsp;</th>\n",
       "      <th id=\"T_01a66_level0_col0\" class=\"col_heading level0 col0\" >CH4</th>\n",
       "      <th id=\"T_01a66_level0_col1\" class=\"col_heading level0 col1\" >CO2e</th>\n",
       "      <th id=\"T_01a66_level0_col2\" class=\"col_heading level0 col2\" >N2O</th>\n",
       "      <th id=\"T_01a66_level0_col3\" class=\"col_heading level0 col3\" >biogenicCO2</th>\n",
       "      <th id=\"T_01a66_level0_col4\" class=\"col_heading level0 col4\" >description</th>\n",
       "      <th id=\"T_01a66_level0_col5\" class=\"col_heading level0 col5\" >fossilFuelCO2</th>\n",
       "      <th id=\"T_01a66_level0_col6\" class=\"col_heading level0 col6\" >unitOfMeasurement</th>\n",
       "    </tr>\n",
       "  </thead>\n",
       "  <tbody>\n",
       "    <tr>\n",
       "      <th id=\"T_01a66_level0_row0\" class=\"row_heading level0 row0\" >0</th>\n",
       "      <td id=\"T_01a66_row0_col0\" class=\"data row0 col0\" >0.000000</td>\n",
       "      <td id=\"T_01a66_row0_col1\" class=\"data row0 col1\" >0.005900</td>\n",
       "      <td id=\"T_01a66_row0_col2\" class=\"data row0 col2\" >0.000000</td>\n",
       "      <td id=\"T_01a66_row0_col3\" class=\"data row0 col3\" >0.467900</td>\n",
       "      <td id=\"T_01a66_row0_col4\" class=\"data row0 col4\" >Fuel Analysis Method is used. Emission factors are obtained from 2024 EPA Emission Factors Hub. GWP values are obtained from IPCC Sixth Assessment Report, 2021 (AR6)</td>\n",
       "      <td id=\"T_01a66_row0_col5\" class=\"data row0 col5\" >0</td>\n",
       "      <td id=\"T_01a66_row0_col6\" class=\"data row0 col6\" >metric tonne</td>\n",
       "    </tr>\n",
       "  </tbody>\n",
       "</table>\n"
      ],
      "text/plain": [
       "<pandas.io.formats.style.Styler at 0x302b1b010>"
      ]
     },
     "metadata": {},
     "output_type": "display_data"
    }
   ],
   "source": [
    "EI_API_ENDPOINT = f\"{EI_BASE_URL}/v2/carbon/stationary\"\n",
    "co2_response_biomass_fired = call_carbon_api(EI_API_ENDPOINT , request_payload, mybearer_token)\n",
    "\n",
    "df_res = pd.json_normalize(co2_response_biomass_fired)\n",
    "df_styled = df_res.style.set_table_styles([{\n",
    "    'selector': 'table',\n",
    "    'props' : [\n",
    "        ('display', 'block'),\n",
    "        ('overflow-x', 'auto'),\n",
    "        ('white-space', 'nowrap')\n",
    "    ]\n",
    "}])\n",
    "display_summary(df_styled)"
   ]
  },
  {
   "cell_type": "markdown",
   "metadata": {},
   "source": [
    "### Comparison of Emissions Between Power Plant Types"
   ]
  },
  {
   "cell_type": "markdown",
   "metadata": {},
   "source": [
    "Based on the carbon emissions measured for each of the power plant types, now we can compare the emission levels and analyze the impact on the environment.\n",
    "For this task, we plot a graph of emissions by the power plant types and analyze the results in the graph."
   ]
  },
  {
   "cell_type": "code",
   "execution_count": 156,
   "metadata": {},
   "outputs": [
    {
     "data": {
      "image/png": "[encoded data removed]",
      "text/plain": [
       "<Figure size 640x480 with 1 Axes>"
      ]
     },
     "metadata": {},
     "output_type": "display_data"
    }
   ],
   "source": [
    "import matplotlib.pyplot as plt\n",
    "import numpy as np\n",
    "\n",
    "# Data\n",
    "labels = ['Coal-Fired', 'Oil-Fired', 'Natural Gas-Fired', 'Biomass-Fired']\n",
    "co2e = [co2_response_coal_fired['CO2e'], co2_response_oil_fired['CO2e'], co2_response_naturalgas_fired['CO2e'], co2_response_biomass_fired['CO2e']]\n",
    "biogenic_carbon = [co2_response_coal_fired['biogenicCO2'], co2_response_oil_fired['biogenicCO2'], co2_response_naturalgas_fired['biogenicCO2'], co2_response_biomass_fired['biogenicCO2']]\n",
    "fig, ax = plt.subplots()\n",
    "\n",
    "# Stacked Bar Chart\n",
    "ax.bar(labels, co2e, label='CO2e')\n",
    "ax.bar(labels, biogenic_carbon, bottom=co2e, label='Biogenic CO2')\n",
    "\n",
    "ax.set_xlabel('Power Plant Type')\n",
    "ax.set_ylabel('Emissions (metric tonne)')\n",
    "ax.set_title('CO2e and Biogenic CO2 Emissions by Power Plant Type')\n",
    "ax.legend()\n",
    "\n",
    "plt.show()"
   ]
  },
  {
   "cell_type": "markdown",
   "metadata": {},
   "source": [
    "The data reveals that for the same energy consumption, coal-fired power plants have the highest CO2e emissions, followed by oil-fired and natural gas-fired plants. Biomass-fired plants emit the least CO2e. In contrast, biogenic carbon, which is CO2 that is derived from recent biological processes rather than fossil sources, is significant only in biomass-fired plants."
   ]
  },
  {
   "cell_type": "markdown",
   "metadata": {},
   "source": [
    "## Related Links"
   ]
  },
  {
   "cell_type": "markdown",
   "metadata": {},
   "source": [
    "[GHG Emissions API Developer Guide](https://developer.ibm.com/apis/catalog/envintelsuite--ibm-environmental-intelligence/GHG+Emissions+API)"
   ]
  }
 ],
 "metadata": {
  "kernelspec": {
   "display_name": "base",
   "language": "python",
   "name": "python3"
  },
  "language_info": {
   "codemirror_mode": {
    "name": "ipython",
    "version": 3
   },
   "file_extension": ".py",
   "mimetype": "text/x-python",
   "name": "python",
   "nbconvert_exporter": "python",
   "pygments_lexer": "ipython3",
   "version": "3.11.5"
  }
 },
 "nbformat": 4,
 "nbformat_minor": 4
}
