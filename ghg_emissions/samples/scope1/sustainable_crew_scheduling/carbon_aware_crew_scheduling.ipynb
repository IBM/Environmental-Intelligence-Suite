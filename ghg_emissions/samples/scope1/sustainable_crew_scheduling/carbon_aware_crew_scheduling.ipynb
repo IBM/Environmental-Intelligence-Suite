{
 "cells": [
  {
   "cell_type": "markdown",
   "metadata": {},
   "source": [
    "# Using carbon-aware scheduling for crews"
   ]
  },
  {
   "cell_type": "markdown",
   "metadata": {},
   "source": [
    "**Table of contents**\n",
    "- Overview\n",
    "- Setup\n",
    "  - Get Token\n",
    "- Utility Functions\n",
    "    - Function to call API\n",
    "    - Input format for API\n",
    "    - Accepted input values\n",
    "- Use Case Implementation\n",
    "  - Fastest route\n",
    "  - Shortest route\n",
    "  - Comparison Between Routes\n",
    "- Related Links"
   ]
  },
  {
   "cell_type": "markdown",
   "metadata": {},
   "source": [
    "## Overview"
   ]
  },
  {
   "cell_type": "markdown",
   "metadata": {},
   "source": [
    "APIs that are used in this sample: **IBM Environmental Intelligence Suite- Greenhouse Gas (GHG) Emissions - Mobile Emissions API**\n",
    "\n",
    "You can calculate the emissions produced based on the type of vehicle and the amount of fuel consumed on a particular route. This approach helps you to choose the most sustainable option for task completion, while balancing operational efficiency and environmental responsibility.\n",
    "\n",
    "The U.S. Environmental Protection Agency calculates that the transportation sector generates the largest share, approximately 29%, of Greenhouse Gas Emissions. As a result, carbon-responsible enterprises are focusing on reducing transportation-related emissions where possible. A carbon-aware approach to crew scheduling has the potential to reduce the carbon footprint of an organization, while still fulfilling work orders.\n",
    "\n",
    "**Business value**\n",
    "- Reduction of carbon footprint\n",
    "- Sustainable work order fulfillment\n",
    "\n",
    "**Use Case**\n",
    "\n",
    "Consider a scenario where a utility company needs to dispatch a crew for maintenance. We can evaluate a vehicle's emissions based on fuel usage, which can help to estimate the carbon impact of different routes. \n",
    "\n",
    "- **Shortest Route**: Minimizes the distance traveled, potentially reducing emissions.\n",
    "- **Fastest Route**: Minimizes time spent on the road, which could lower emissions depending on traffic conditions and fuel efficiency at different speeds.\n",
    "\n",
    "For more information on the inputs and output data points for the Mobile GHG Emissions API Endpoint, see [GHG Emissions API Developer Guide](https://developer.ibm.com/apis/catalog/envintelsuite--ibm-environmental-intelligence/GHG+Emissions+API).\n"
   ]
  },
  {
   "cell_type": "markdown",
   "metadata": {},
   "source": [
    "\n",
    "![carbon_aware_crew_scheduling.png](carbon_aware_crew_scheduling.png)"
   ]
  },
  {
   "cell_type": "markdown",
   "metadata": {},
   "source": [
    "## Setup"
   ]
  },
  {
   "cell_type": "markdown",
   "metadata": {},
   "source": [
    "Ensure that Python is installed in your system. Python 3+ is required.\n",
    "\n",
    "<b>Note:</b> To run this notebook seamlessly, you have to first configure your credentials for GHG Emission APIs in a file named `secrets.ini` in the following format:\n",
    "\n",
    "```\n",
    "[EI]\n",
    "api.api_key = <Your GHG APIs API key>\n",
    "api.client_id = <Your GHG APIs client Id>\n",
    "```\n",
    "\n",
    "Keep the secrets.ini file at an appropriate relative location of this notebook, for example, as specified in this config:\n",
    "\n",
    "```config.read('../../../auth/secrets.ini')```"
   ]
  },
  {
   "cell_type": "code",
   "execution_count": 59,
   "metadata": {},
   "outputs": [],
   "source": [
    "# Install the packages below using pip/pip3 based on your python version.\n",
    "# pip install pandas,configparser,json,IPython\n",
    "import pandas as pd\n",
    "import configparser\n",
    "import requests\n",
    "import json\n",
    "from IPython.display import display as display_summary"
   ]
  },
  {
   "cell_type": "code",
   "execution_count": 60,
   "metadata": {},
   "outputs": [],
   "source": [
    "import matplotlib.pyplot as plt"
   ]
  },
  {
   "cell_type": "markdown",
   "metadata": {},
   "source": [
    "### Get token"
   ]
  },
  {
   "cell_type": "markdown",
   "metadata": {},
   "source": [
    "Run the following code snippet to generate the Auth Bearer Token by using your api_key configured in secrets.ini."
   ]
  },
  {
   "cell_type": "code",
   "execution_count": 61,
   "metadata": {},
   "outputs": [],
   "source": [
    "config = configparser.RawConfigParser()\n",
    "config.read(['../../../auth/secrets.ini','../../../auth/config.ini'])\n",
    "\n",
    "EI_API_KEY  = config.get('EI', 'api.api_key')\n",
    "EI_CLIENT_ID = config.get('EI', 'api.client_id')\n",
    "EI_AUTH_ENPOINT = config.get('EI', 'api.auth_endpoint')\n",
    "EI_BASE_URL = config.get('EI', 'api.base_url')\n",
    "\n",
    "def get_bearer_token(token):\n",
    "    headers = {\n",
    "        'Content-Type': 'application/json',\n",
    "        'cache-control': 'no-cache',\n",
    "    }\n",
    "    data = {\"apiKey\":token, \"clientId\":EI_CLIENT_ID}\n",
    "    bearer_token_req = requests.post(EI_AUTH_ENPOINT, headers=headers, data= json.dumps(data))\n",
    "    if bearer_token_req.status_code != 200:\n",
    "        print( \"Error in getting Bearer token. Error code : \",bearer_token_req.status_code)\n",
    "    return bearer_token_req.json()['access_token']\n",
    "\n",
    "mybearer_token = get_bearer_token(EI_API_KEY)"
   ]
  },
  {
   "cell_type": "markdown",
   "metadata": {},
   "source": [
    "## Utility Functions"
   ]
  },
  {
   "cell_type": "markdown",
   "metadata": {},
   "source": [
    "Let us setup utility helper functions to run this use case."
   ]
  },
  {
   "cell_type": "markdown",
   "metadata": {},
   "source": [
    "### Function to call API"
   ]
  },
  {
   "cell_type": "code",
   "execution_count": 62,
   "metadata": {},
   "outputs": [],
   "source": [
    "def call_carbon_api(co2_api, co2_data, token):\n",
    "    headers = {\n",
    "        'accept': 'application/json',\n",
    "        'Authorization': 'Bearer '+token,\n",
    "        'Content-Type': 'application/json',\n",
    "    }\n",
    "\n",
    "    co2_response_req = requests.post( co2_api, headers=headers, data=json.dumps(co2_data))\n",
    "    if co2_response_req.status_code != 200:\n",
    "        print( \"Problem! Error in generating response. Error code : \",co2_response_req.status_code)\n",
    "    return co2_response_req.json()"
   ]
  },
  {
   "cell_type": "markdown",
   "metadata": {},
   "source": [
    "### Input format for API"
   ]
  },
  {
   "cell_type": "code",
   "execution_count": 63,
   "metadata": {},
   "outputs": [],
   "source": [
    "def customer_id(customer_id):\n",
    "    Input =  {\n",
    "              \"id\": customer_id\n",
    "          }\n",
    "    return Input \n",
    "\n",
    "def customer_on_behalf_of_client(company_id,company_name):\n",
    "    Input =  {\n",
    "              \"companyId\": company_id,\n",
    "              \"companyName\": company_name\n",
    "          }\n",
    "    return Input  \n",
    "\n",
    "\n",
    "def customer_organisation(department_id,department_name):\n",
    "    Input =  {\n",
    "              \"departmentId\": department_id,\n",
    "              \"departmentName\": department_name\n",
    "          }\n",
    "    return Input  \n",
    "\n",
    "\n",
    "def customer_request_type(request_type):\n",
    "    return request_type     \n",
    "\n",
    "\n",
    "def customer_location(country,state_province,zip_post_code,city):\n",
    "    Input =  {\n",
    "              \"country\": country,\n",
    "              \"stateProvince\": state_province,\n",
    "              \"zipPostCode\": zip_post_code,\n",
    "              \"city\": city\n",
    "          }\n",
    "    return Input        \n",
    "\n",
    "\n",
    "def customer_site(site_id,site_name,building_id,building_name):\n",
    "    Input = {\n",
    "              \"siteId\": site_id,\n",
    "              \"siteName\": site_name,\n",
    "              \"buildingId\": building_id,\n",
    "              \"buildingName\": building_name\n",
    "          }               \n",
    "    return Input\n",
    "\n",
    "def mobile_input(vehicle_type,fuel_used,fuel_amount,unit_of_fuel_amount):\n",
    "    input = {\"vehicleType\": vehicle_type,\n",
    "             \"fuelUsed\": fuel_used,\n",
    "             \"fuelAmount\": fuel_amount,\n",
    "             \"unitOfFuelAmount\": unit_of_fuel_amount\n",
    "            }\n",
    "    return input"
   ]
  },
  {
   "cell_type": "markdown",
   "metadata": {},
   "source": [
    "### Accepted input values"
   ]
  },
  {
   "cell_type": "markdown",
   "metadata": {},
   "source": [
    "You can check the accepted values for the individual fields of the request payload. For more information, see [GHG Emissions API Developer Guide](https://developer.ibm.com/apis/catalog/envintelsuite--ibm-environmental-intelligence/GHG+Emissions+API#mobile)."
   ]
  },
  {
   "cell_type": "markdown",
   "metadata": {},
   "source": [
    "## Use Case Implementation"
   ]
  },
  {
   "cell_type": "markdown",
   "metadata": {},
   "source": [
    "### Fastest route"
   ]
  },
  {
   "cell_type": "markdown",
   "metadata": {},
   "source": [
    "Now, using the GHG Mobile Emissions APIs, calculate the emissions for the fastest route. "
   ]
  },
  {
   "cell_type": "code",
   "execution_count": 64,
   "metadata": {},
   "outputs": [],
   "source": [
    "fuel_consumed_fastest = '20' #in US gallon\n",
    "time_fastest = '12' # hours"
   ]
  },
  {
   "cell_type": "code",
   "execution_count": 65,
   "metadata": {},
   "outputs": [
    {
     "name": "stdout",
     "output_type": "stream",
     "text": [
      "The request payload is : {\n",
      "  \"customID\": {\n",
      "    \"id\": \"123\"\n",
      "  },\n",
      "  \"onBehalfOfClient\": {\n",
      "    \"companyId\": \"111\",\n",
      "    \"companyName\": \"XYZ\"\n",
      "  },\n",
      "  \"organisation\": {\n",
      "    \"departmentId\": \"345\",\n",
      "    \"departmentName\": \"HR\"\n",
      "  },\n",
      "  \"requestType\": \"ACTUAL\",\n",
      "  \"location\": {\n",
      "    \"country\": \"US\",\n",
      "    \"stateProvince\": \"New York\",\n",
      "    \"zipPostCode\": \"11430\",\n",
      "    \"city\": \"NYC\"\n",
      "  },\n",
      "  \"site\": {\n",
      "    \"siteId\": \"321\",\n",
      "    \"siteName\": \"PQR\",\n",
      "    \"buildingId\": \"123\",\n",
      "    \"buildingName\": \"ABC\"\n",
      "  },\n",
      "  \"timePeriod\": {\n",
      "    \"year\": \"2021\",\n",
      "    \"month\": \"10\"\n",
      "  },\n",
      "  \"activityData\": {\n",
      "    \"vehicleType\": \"Light Goods Vehicle - Gasoline - year 2005-present\",\n",
      "    \"fuelUsed\": \"Gasoline\",\n",
      "    \"fuelAmount\": \"20\",\n",
      "    \"unitOfFuelAmount\": \"US Gallon\"\n",
      "  }\n",
      "}\n"
     ]
    }
   ],
   "source": [
    "payload_fastest = {'customID'        : customer_id(customer_id='123'), \n",
    "                   'onBehalfOfClient': customer_on_behalf_of_client(company_id='111',\n",
    "                                                                 company_name='XYZ') , \n",
    "                   'organisation'    : customer_organisation(department_id='345',\n",
    "                                                             department_name='HR'), \n",
    "                   'requestType'     : customer_request_type(request_type='ACTUAL'), \n",
    "                   'location'        : customer_location(country='US',\n",
    "                                                         state_province='New York',\n",
    "                                                         zip_post_code='11430',\n",
    "                                                         city='NYC'),\n",
    "                   'site'            : customer_site(site_id='321',\n",
    "                                                     site_name='PQR',\n",
    "                                                     building_id='123',\n",
    "                                                     building_name='ABC'), \n",
    "                   'timePeriod'      : {'year' : '2021', \n",
    "                                        'month': '10'},\n",
    "                   'activityData' : mobile_input(\n",
    "                                                    vehicle_type = \"Light Goods Vehicle - Gasoline - year 2005-present\",\n",
    "                                                    fuel_used = \"Gasoline\",\n",
    "                                                    fuel_amount = fuel_consumed_fastest,\n",
    "                                                    unit_of_fuel_amount = \"US Gallon\"\n",
    "                                                                             )\n",
    "                   }        \n",
    "       \n",
    "print(\"The request payload is :\",json.dumps(payload_fastest, indent=2))"
   ]
  },
  {
   "cell_type": "code",
   "execution_count": 66,
   "metadata": {},
   "outputs": [
    {
     "data": {
      "text/html": [
       "<style type=\"text/css\">\n",
       "#T_c3e99 table {\n",
       "  display: block;\n",
       "  overflow-x: auto;\n",
       "  white-space: nowrap;\n",
       "}\n",
       "</style>\n",
       "<table id=\"T_c3e99\">\n",
       "  <thead>\n",
       "    <tr>\n",
       "      <th class=\"blank level0\" >&nbsp;</th>\n",
       "      <th id=\"T_c3e99_level0_col0\" class=\"col_heading level0 col0\" >CH4</th>\n",
       "      <th id=\"T_c3e99_level0_col1\" class=\"col_heading level0 col1\" >CO2e</th>\n",
       "      <th id=\"T_c3e99_level0_col2\" class=\"col_heading level0 col2\" >N2O</th>\n",
       "      <th id=\"T_c3e99_level0_col3\" class=\"col_heading level0 col3\" >biogenicCO2</th>\n",
       "      <th id=\"T_c3e99_level0_col4\" class=\"col_heading level0 col4\" >description</th>\n",
       "      <th id=\"T_c3e99_level0_col5\" class=\"col_heading level0 col5\" >fossilFuelCO2</th>\n",
       "      <th id=\"T_c3e99_level0_col6\" class=\"col_heading level0 col6\" >unitOfMeasurement</th>\n",
       "    </tr>\n",
       "  </thead>\n",
       "  <tbody>\n",
       "    <tr>\n",
       "      <th id=\"T_c3e99_level0_row0\" class=\"row_heading level0 row0\" >0</th>\n",
       "      <td id=\"T_c3e99_row0_col0\" class=\"data row0 col0\" >0.000005</td>\n",
       "      <td id=\"T_c3e99_row0_col1\" class=\"data row0 col1\" >0.176635</td>\n",
       "      <td id=\"T_c3e99_row0_col2\" class=\"data row0 col2\" >0.000003</td>\n",
       "      <td id=\"T_c3e99_row0_col3\" class=\"data row0 col3\" >0.000000</td>\n",
       "      <td id=\"T_c3e99_row0_col4\" class=\"data row0 col4\" >Fuel-use method is used. Emission factors are from Cross-Sector Tools Version 2, GHG Protocol. GWP values are obtained from IPCC Sixth Assessment Report, 2021 (AR6)</td>\n",
       "      <td id=\"T_c3e99_row0_col5\" class=\"data row0 col5\" >0.175600</td>\n",
       "      <td id=\"T_c3e99_row0_col6\" class=\"data row0 col6\" >metric tonne</td>\n",
       "    </tr>\n",
       "  </tbody>\n",
       "</table>\n"
      ],
      "text/plain": [
       "<pandas.io.formats.style.Styler at 0x13932a250>"
      ]
     },
     "metadata": {},
     "output_type": "display_data"
    }
   ],
   "source": [
    "EI_API_ENDPOINT = f\"{EI_BASE_URL}/v2/carbon/mobile\"\n",
    "co2_response_fastest = call_carbon_api(EI_API_ENDPOINT , payload_fastest, mybearer_token)\n",
    "\n",
    "df_res_fastest = pd.json_normalize(co2_response_fastest)\n",
    "df_styled = df_res_fastest.style.set_table_styles([{\n",
    "    'selector': 'table',\n",
    "    'props' : [\n",
    "        ('display', 'block'),\n",
    "        ('overflow-x', 'auto'),\n",
    "        ('white-space', 'nowrap')\n",
    "    ]\n",
    "}])\n",
    "display_summary(df_styled)"
   ]
  },
  {
   "cell_type": "markdown",
   "metadata": {},
   "source": [
    "### Shortest route"
   ]
  },
  {
   "cell_type": "markdown",
   "metadata": {},
   "source": [
    "Using the GHG Mobile Emissions APIs, calculate the emissions for the shortest route."
   ]
  },
  {
   "cell_type": "code",
   "execution_count": 67,
   "metadata": {},
   "outputs": [],
   "source": [
    "fuel_consumed_shortest = '17.5' #in US gallon\n",
    "time_shortest = '16' # hours"
   ]
  },
  {
   "cell_type": "code",
   "execution_count": 68,
   "metadata": {},
   "outputs": [
    {
     "name": "stdout",
     "output_type": "stream",
     "text": [
      "Requests payload is : {\n",
      "  \"customID\": {\n",
      "    \"id\": \"123\"\n",
      "  },\n",
      "  \"onBehalfOfClient\": {\n",
      "    \"companyId\": \"111\",\n",
      "    \"companyName\": \"XYZ\"\n",
      "  },\n",
      "  \"organisation\": {\n",
      "    \"departmentId\": \"345\",\n",
      "    \"departmentName\": \"HR\"\n",
      "  },\n",
      "  \"requestType\": \"ACTUAL\",\n",
      "  \"location\": {\n",
      "    \"country\": \"US\",\n",
      "    \"stateProvince\": \"New York\",\n",
      "    \"zipPostCode\": \"11430\",\n",
      "    \"city\": \"NYC\"\n",
      "  },\n",
      "  \"site\": {\n",
      "    \"siteId\": \"321\",\n",
      "    \"siteName\": \"PQR\",\n",
      "    \"buildingId\": \"123\",\n",
      "    \"buildingName\": \"ABC\"\n",
      "  },\n",
      "  \"timePeriod\": {\n",
      "    \"year\": \"2021\",\n",
      "    \"month\": \"10\"\n",
      "  },\n",
      "  \"activityData\": {\n",
      "    \"vehicleType\": \"Light Goods Vehicle - Gasoline - year 2005-present\",\n",
      "    \"fuelUsed\": \"Gasoline\",\n",
      "    \"fuelAmount\": \"17.5\",\n",
      "    \"unitOfFuelAmount\": \"US Gallon\"\n",
      "  }\n",
      "}\n"
     ]
    }
   ],
   "source": [
    "payload_shortest = {'customID'        : customer_id(customer_id='123'), \n",
    "                   'onBehalfOfClient': customer_on_behalf_of_client(company_id='111',\n",
    "                                                                 company_name='XYZ') , \n",
    "                   'organisation'    : customer_organisation(department_id='345',\n",
    "                                                             department_name='HR'), \n",
    "                   'requestType'     : customer_request_type(request_type='ACTUAL'), \n",
    "                   'location'        : customer_location(country='US',\n",
    "                                                         state_province='New York',\n",
    "                                                         zip_post_code='11430',\n",
    "                                                         city='NYC'),\n",
    "                   'site'            : customer_site(site_id='321',\n",
    "                                                     site_name='PQR',\n",
    "                                                     building_id='123',\n",
    "                                                     building_name='ABC'), \n",
    "                   'timePeriod'      : {'year' : '2021', \n",
    "                                        'month': '10'},\n",
    "                   'activityData' : mobile_input(\n",
    "                                                    vehicle_type = \"Light Goods Vehicle - Gasoline - year 2005-present\",\n",
    "                                                    fuel_used = \"Gasoline\",\n",
    "                                                    fuel_amount = fuel_consumed_shortest,\n",
    "                                                    unit_of_fuel_amount = \"US Gallon\"\n",
    "                                                                             )\n",
    "                   }        \n",
    "       \n",
    "print(\"Requests payload is :\",json.dumps(payload_shortest, indent=2))"
   ]
  },
  {
   "cell_type": "code",
   "execution_count": 69,
   "metadata": {},
   "outputs": [
    {
     "data": {
      "text/html": [
       "<style type=\"text/css\">\n",
       "#T_a111a table {\n",
       "  display: block;\n",
       "  overflow-x: auto;\n",
       "  white-space: nowrap;\n",
       "}\n",
       "</style>\n",
       "<table id=\"T_a111a\">\n",
       "  <thead>\n",
       "    <tr>\n",
       "      <th class=\"blank level0\" >&nbsp;</th>\n",
       "      <th id=\"T_a111a_level0_col0\" class=\"col_heading level0 col0\" >CH4</th>\n",
       "      <th id=\"T_a111a_level0_col1\" class=\"col_heading level0 col1\" >CO2e</th>\n",
       "      <th id=\"T_a111a_level0_col2\" class=\"col_heading level0 col2\" >N2O</th>\n",
       "      <th id=\"T_a111a_level0_col3\" class=\"col_heading level0 col3\" >biogenicCO2</th>\n",
       "      <th id=\"T_a111a_level0_col4\" class=\"col_heading level0 col4\" >description</th>\n",
       "      <th id=\"T_a111a_level0_col5\" class=\"col_heading level0 col5\" >fossilFuelCO2</th>\n",
       "      <th id=\"T_a111a_level0_col6\" class=\"col_heading level0 col6\" >unitOfMeasurement</th>\n",
       "    </tr>\n",
       "  </thead>\n",
       "  <tbody>\n",
       "    <tr>\n",
       "      <th id=\"T_a111a_level0_row0\" class=\"row_heading level0 row0\" >0</th>\n",
       "      <td id=\"T_a111a_row0_col0\" class=\"data row0 col0\" >0.000004</td>\n",
       "      <td id=\"T_a111a_row0_col1\" class=\"data row0 col1\" >0.154556</td>\n",
       "      <td id=\"T_a111a_row0_col2\" class=\"data row0 col2\" >0.000003</td>\n",
       "      <td id=\"T_a111a_row0_col3\" class=\"data row0 col3\" >0.000000</td>\n",
       "      <td id=\"T_a111a_row0_col4\" class=\"data row0 col4\" >Fuel-use method is used. Emission factors are from Cross-Sector Tools Version 2, GHG Protocol. GWP values are obtained from IPCC Sixth Assessment Report, 2021 (AR6)</td>\n",
       "      <td id=\"T_a111a_row0_col5\" class=\"data row0 col5\" >0.153650</td>\n",
       "      <td id=\"T_a111a_row0_col6\" class=\"data row0 col6\" >metric tonne</td>\n",
       "    </tr>\n",
       "  </tbody>\n",
       "</table>\n"
      ],
      "text/plain": [
       "<pandas.io.formats.style.Styler at 0x139266490>"
      ]
     },
     "metadata": {},
     "output_type": "display_data"
    }
   ],
   "source": [
    "EI_API_ENDPOINT = f\"{EI_BASE_URL}/v2/carbon/mobile\"\n",
    "\n",
    "co2_response_shortest = call_carbon_api(EI_API_ENDPOINT , payload_shortest, mybearer_token)\n",
    "\n",
    "df_res_shortest = pd.json_normalize(co2_response_shortest)\n",
    "df_styled = df_res_shortest.style.set_table_styles([{\n",
    "    'selector': 'table',\n",
    "    'props' : [\n",
    "        ('display', 'block'),\n",
    "        ('overflow-x', 'auto'),\n",
    "        ('white-space', 'nowrap')\n",
    "    ]\n",
    "}])\n",
    "display_summary(df_styled)"
   ]
  },
  {
   "cell_type": "markdown",
   "metadata": {},
   "source": [
    "### Comparison Between Routes"
   ]
  },
  {
   "cell_type": "code",
   "execution_count": 70,
   "metadata": {},
   "outputs": [
    {
     "data": {
      "image/png": "[encoded data removed]",
      "text/plain": [
       "<Figure size 640x480 with 2 Axes>"
      ]
     },
     "metadata": {},
     "output_type": "display_data"
    }
   ],
   "source": [
    "import matplotlib.pyplot as plt\n",
    "import numpy as np\n",
    "\n",
    "# Data for the plot\n",
    "routes = ['Fastest', 'Shortest']\n",
    "emission = [round(co2_response_fastest['CO2e'], 3), round(co2_response_shortest['CO2e'] ,3) ]  # Fuel consumed for each route\n",
    "time_taken = [time_fastest, time_shortest]   # Time taken for each route\n",
    "\n",
    "x = np.arange(len(routes))  # The label locations\n",
    "width = 0.35  # The width of the bars\n",
    "\n",
    "fig, ax1 = plt.subplots()\n",
    "\n",
    "# Plotting the first set of bars for fuel consumed\n",
    "rects1 = ax1.bar(x - width/2, time_taken, width, label='Time taken (hours)', color='royalblue')\n",
    "ax1.set_xlabel('Routes')\n",
    "ax1.set_ylabel('Time taken (hours)', color='royalblue')\n",
    "ax1.set_xticks(x)\n",
    "ax1.set_xticklabels(routes)\n",
    "ax1.tick_params(axis='y', labelcolor='royalblue')\n",
    "\n",
    "# Creating a second y-axis for time taken\n",
    "ax2 = ax1.twinx()  \n",
    "rects2 = ax2.bar(x + width/2, emission, width, label='GHG emission (MT CO2e)', color='darkorange')\n",
    "ax2.set_ylabel('GHG emission (MT CO2e)', color='darkorange')\n",
    "ax2.tick_params(axis='y', labelcolor='darkorange')\n",
    "\n",
    "# Adding value labels on top of bars\n",
    "ax1.bar_label(rects1, padding=3)\n",
    "ax2.bar_label(rects2, padding=3)\n",
    "fig.legend(loc='upper right', bbox_to_anchor=(1,1), bbox_transform=ax1.transAxes)\n",
    "fig.tight_layout()\n",
    "plt.title('Comparison of time and emissions of different routes')\n",
    "plt.show()\n"
   ]
  },
  {
   "cell_type": "markdown",
   "metadata": {},
   "source": [
    "Calculating the GHG emissions for different crew schedule scenarios by using the GHG Mobile Emissions API helps you to quantify the emissions that are associated with different vehicle types and routes.  By using these insights, organizations can optimize routes and vehicle choices to minimize their carbon footprint, align with sustainability goals, and enhance overall decision-making processes. "
   ]
  },
  {
   "cell_type": "markdown",
   "metadata": {},
   "source": [
    "## Related Links"
   ]
  },
  {
   "cell_type": "markdown",
   "metadata": {},
   "source": [
    "[GHG Emissions API Developer Guide](https://developer.ibm.com/apis/catalog/envintelsuite--ibm-environmental-intelligence/GHG+Emissions+API)"
   ]
  }
 ],
 "metadata": {
  "kernelspec": {
   "display_name": "base",
   "language": "python",
   "name": "python3"
  },
  "language_info": {
   "codemirror_mode": {
    "name": "ipython",
    "version": 3
   },
   "file_extension": ".py",
   "mimetype": "text/x-python",
   "name": "python",
   "nbconvert_exporter": "python",
   "pygments_lexer": "ipython3",
   "version": "3.11.5"
  }
 },
 "nbformat": 4,
 "nbformat_minor": 4
}
